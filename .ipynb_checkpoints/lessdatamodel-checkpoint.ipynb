{
 "cells": [
  {
   "cell_type": "code",
   "execution_count": null,
   "metadata": {
    "id": "XYzst7g6WKtV"
   },
   "outputs": [],
   "source": []
  },
  {
   "cell_type": "code",
   "execution_count": 1,
   "metadata": {
    "colab": {
     "base_uri": "https://localhost:8080/"
    },
    "executionInfo": {
     "elapsed": 26527,
     "status": "ok",
     "timestamp": 1704256599313,
     "user": {
      "displayName": "girish vesangi",
      "userId": "11780172303041565246"
     },
     "user_tz": -330
    },
    "id": "KZ3n06FaWQH-",
    "outputId": "8de36fb9-3d17-4e16-a9e8-54ec269ad474"
   },
   "outputs": [
    {
     "name": "stdout",
     "output_type": "stream",
     "text": [
      "Mounted at /content/drive\n"
     ]
    }
   ],
   "source": [
    "from google.colab import drive\n",
    "drive.mount('/content/drive')"
   ]
  },
  {
   "cell_type": "code",
   "execution_count": 2,
   "metadata": {
    "colab": {
     "base_uri": "https://localhost:8080/"
    },
    "executionInfo": {
     "elapsed": 11216,
     "status": "ok",
     "timestamp": 1704256543957,
     "user": {
      "displayName": "girish vesangi",
      "userId": "11780172303041565246"
     },
     "user_tz": -330
    },
    "id": "w91sBw7DWQ8j",
    "outputId": "058eac73-db1c-493e-e9e2-0ef06909e3bf"
   },
   "outputs": [
    {
     "name": "stdout",
     "output_type": "stream",
     "text": [
      "Archive:  /content/drive/MyDrive/archive.zip\n"
     ]
    }
   ],
   "source": [
    "!unzip \"/content/drive/MyDrive/archive.zip\" -d \"/content/drive/MyDrive/emotionsextracted\"\n"
   ]
  },
  {
   "cell_type": "code",
   "execution_count": 1,
   "metadata": {
    "executionInfo": {
     "elapsed": 8190,
     "status": "ok",
     "timestamp": 1704258488624,
     "user": {
      "displayName": "girish vesangi",
      "userId": "11780172303041565246"
     },
     "user_tz": -330
    },
    "id": "q2KtNG0oXMey"
   },
   "outputs": [],
   "source": [
    "import tensorflow as tf\n",
    "import os\n",
    "import cv2\n",
    "import matplotlib.pyplot as plt\n",
    "import numpy as np"
   ]
  },
  {
   "cell_type": "code",
   "execution_count": 2,
   "metadata": {
    "executionInfo": {
     "elapsed": 465,
     "status": "ok",
     "timestamp": 1704258490740,
     "user": {
      "displayName": "girish vesangi",
      "userId": "11780172303041565246"
     },
     "user_tz": -330
    },
    "id": "y292zNLpdZrv"
   },
   "outputs": [],
   "source": [
    "img=cv2.imread(\"C:\\\\Users\\\\ACER\\\\Desktop\\\\new_emotions\\\\emotionsdata\\\\train\\\\angry\\\\Training_143373.jpg\")"
   ]
  },
  {
   "cell_type": "code",
   "execution_count": 3,
   "metadata": {
    "colab": {
     "base_uri": "https://localhost:8080/"
    },
    "executionInfo": {
     "elapsed": 636,
     "status": "ok",
     "timestamp": 1704258493079,
     "user": {
      "displayName": "girish vesangi",
      "userId": "11780172303041565246"
     },
     "user_tz": -330
    },
    "id": "C8jGpj3bdmzZ",
    "outputId": "83a225d1-b52e-47e7-c2d2-6912ded8a41e"
   },
   "outputs": [
    {
     "data": {
      "text/plain": [
       "(48, 48, 3)"
      ]
     },
     "execution_count": 3,
     "metadata": {},
     "output_type": "execute_result"
    }
   ],
   "source": [
    "img.shape"
   ]
  },
  {
   "cell_type": "code",
   "execution_count": 4,
   "metadata": {
    "colab": {
     "base_uri": "https://localhost:8080/",
     "height": 448
    },
    "executionInfo": {
     "elapsed": 1100,
     "status": "ok",
     "timestamp": 1704258494876,
     "user": {
      "displayName": "girish vesangi",
      "userId": "11780172303041565246"
     },
     "user_tz": -330
    },
    "id": "h54yF4f5dqn9",
    "outputId": "e952e679-e36b-42fe-d8c3-38fe0d78b564"
   },
   "outputs": [
    {
     "data": {
      "text/plain": [
       "<matplotlib.image.AxesImage at 0x15a5bb0ba30>"
      ]
     },
     "execution_count": 4,
     "metadata": {},
     "output_type": "execute_result"
    },
    {
     "data": {
      "image/png": "[encoded data removed]",
      "text/plain": [
       "<Figure size 640x480 with 1 Axes>"
      ]
     },
     "metadata": {},
     "output_type": "display_data"
    }
   ],
   "source": [
    "plt.imshow(img)"
   ]
  },
  {
   "cell_type": "code",
   "execution_count": 5,
   "metadata": {
    "executionInfo": {
     "elapsed": 5,
     "status": "ok",
     "timestamp": 1704258496632,
     "user": {
      "displayName": "girish vesangi",
      "userId": "11780172303041565246"
     },
     "user_tz": -330
    },
    "id": "mxhRQQKJeMAe"
   },
   "outputs": [],
   "source": [
    "DataDirectory=\"C:\\\\Users\\\\ACER\\\\Desktop\\\\new_emotions\\\\emotionsdata\\\\train\""
   ]
  },
  {
   "cell_type": "code",
   "execution_count": 6,
   "metadata": {
    "executionInfo": {
     "elapsed": 6,
     "status": "ok",
     "timestamp": 1704258498591,
     "user": {
      "displayName": "girish vesangi",
      "userId": "11780172303041565246"
     },
     "user_tz": -330
    },
    "id": "4nLToX7peard"
   },
   "outputs": [],
   "source": [
    "classes=[\"angry\",\"disgust\",\"fear\",\"happy\",\"neutral\",\"sad\",\"surprise\"]"
   ]
  },
  {
   "cell_type": "code",
   "execution_count": 7,
   "metadata": {
    "colab": {
     "base_uri": "https://localhost:8080/",
     "height": 431
    },
    "executionInfo": {
     "elapsed": 1063,
     "status": "ok",
     "timestamp": 1704258501138,
     "user": {
      "displayName": "girish vesangi",
      "userId": "11780172303041565246"
     },
     "user_tz": -330
    },
    "id": "rubnjHBxerTA",
    "outputId": "513f51b1-2098-42b6-a1a2-0f670dafc7f1"
   },
   "outputs": [
    {
     "data": {
      "image/png": "[encoded data removed]",
      "text/plain": [
       "<Figure size 640x480 with 1 Axes>"
      ]
     },
     "metadata": {},
     "output_type": "display_data"
    }
   ],
   "source": [
    "for class_name in classes:\n",
    "        path=os.path.join(DataDirectory,class_name)\n",
    "        for i in os.listdir(path):\n",
    "          img=cv2.imread(os.path.join(path,i))\n",
    "          plt.imshow(cv2.cvtColor(img,cv2.COLOR_BGR2RGB))\n",
    "          plt.show()\n",
    "          break\n",
    "        break"
   ]
  },
  {
   "cell_type": "code",
   "execution_count": 8,
   "metadata": {
    "colab": {
     "base_uri": "https://localhost:8080/",
     "height": 434
    },
    "executionInfo": {
     "elapsed": 1835,
     "status": "ok",
     "timestamp": 1704258504571,
     "user": {
      "displayName": "girish vesangi",
      "userId": "11780172303041565246"
     },
     "user_tz": -330
    },
    "id": "RvYk4CfSfQBF",
    "outputId": "24194e33-b633-4d73-9015-b37867427ea6"
   },
   "outputs": [
    {
     "data": {
      "image/png": "[encoded data removed]",
      "text/plain": [
       "<Figure size 640x480 with 1 Axes>"
      ]
     },
     "metadata": {},
     "output_type": "display_data"
    }
   ],
   "source": [
    "img_size=224\n",
    "new_img=cv2.resize(img,(img_size,img_size))\n",
    "plt.imshow(cv2.cvtColor(new_img,cv2.COLOR_BGR2RGB))\n",
    "plt.show()"
   ]
  },
  {
   "cell_type": "code",
   "execution_count": 9,
   "metadata": {
    "executionInfo": {
     "elapsed": 4,
     "status": "ok",
     "timestamp": 1704258506142,
     "user": {
      "displayName": "girish vesangi",
      "userId": "11780172303041565246"
     },
     "user_tz": -330
    },
    "id": "3KEZFUqNfxly"
   },
   "outputs": [],
   "source": [
    "training_data=[]\n",
    "\n",
    "def create():\n",
    "  num_images=400\n",
    "  for class_name in classes:\n",
    "        path=os.path.join(DataDirectory,class_name)\n",
    "        class_label=classes.index(class_name)\n",
    "        count=0\n",
    "        for i in os.listdir(path):\n",
    "            try:\n",
    "                img=cv2.imread(os.path.join(path,i))\n",
    "                new_img=cv2.resize(img,(img_size,img_size))\n",
    "                training_data.append([new_img,class_label])\n",
    "                count+=1\n",
    "                if count>=num_images:\n",
    "                  break\n",
    "            except Exception as e:\n",
    "                pass"
   ]
  },
  {
   "cell_type": "code",
   "execution_count": 10,
   "metadata": {
    "executionInfo": {
     "elapsed": 33450,
     "status": "ok",
     "timestamp": 1704258541914,
     "user": {
      "displayName": "girish vesangi",
      "userId": "11780172303041565246"
     },
     "user_tz": -330
    },
    "id": "lEDQR30igPA0"
   },
   "outputs": [],
   "source": [
    "create()"
   ]
  },
  {
   "cell_type": "code",
   "execution_count": 11,
   "metadata": {
    "colab": {
     "base_uri": "https://localhost:8080/"
    },
    "executionInfo": {
     "elapsed": 774,
     "status": "ok",
     "timestamp": 1704258550644,
     "user": {
      "displayName": "girish vesangi",
      "userId": "11780172303041565246"
     },
     "user_tz": -330
    },
    "id": "lbPUQIUGgRID",
    "outputId": "479aeb7f-35e1-48f5-bf69-d6bc0346d46b"
   },
   "outputs": [
    {
     "name": "stdout",
     "output_type": "stream",
     "text": [
      "2800\n"
     ]
    }
   ],
   "source": [
    "print(len(training_data))\n"
   ]
  },
  {
   "cell_type": "code",
   "execution_count": 12,
   "metadata": {
    "executionInfo": {
     "elapsed": 5,
     "status": "ok",
     "timestamp": 1704258552399,
     "user": {
      "displayName": "girish vesangi",
      "userId": "11780172303041565246"
     },
     "user_tz": -330
    },
    "id": "3dPUInAbgyp-"
   },
   "outputs": [],
   "source": [
    "import random\n",
    "\n",
    "random.shuffle(training_data)"
   ]
  },
  {
   "cell_type": "code",
   "execution_count": 13,
   "metadata": {
    "executionInfo": {
     "elapsed": 916,
     "status": "ok",
     "timestamp": 1704258555186,
     "user": {
      "displayName": "girish vesangi",
      "userId": "11780172303041565246"
     },
     "user_tz": -330
    },
    "id": "r9DarnaXg-z4"
   },
   "outputs": [],
   "source": [
    "x = []\n",
    "\n",
    "y= []\n",
    "\n",
    "for feature,label in training_data:\n",
    "    x.append(feature)\n",
    "    y.append(label)\n",
    "x=np.array(x).reshape(-1,img_size,img_size,3)"
   ]
  },
  {
   "cell_type": "code",
   "execution_count": 14,
   "metadata": {
    "colab": {
     "base_uri": "https://localhost:8080/"
    },
    "executionInfo": {
     "elapsed": 836,
     "status": "ok",
     "timestamp": 1704258562876,
     "user": {
      "displayName": "girish vesangi",
      "userId": "11780172303041565246"
     },
     "user_tz": -330
    },
    "id": "5t83Wp59hU9S",
    "outputId": "60abcadb-9e70-447a-8ec3-28d8a5309476"
   },
   "outputs": [
    {
     "data": {
      "text/plain": [
       "(2800, 224, 224, 3)"
      ]
     },
     "execution_count": 14,
     "metadata": {},
     "output_type": "execute_result"
    }
   ],
   "source": [
    "x.shape"
   ]
  },
  {
   "cell_type": "code",
   "execution_count": 15,
   "metadata": {
    "colab": {
     "base_uri": "https://localhost:8080/"
    },
    "executionInfo": {
     "elapsed": 9,
     "status": "ok",
     "timestamp": 1704258564918,
     "user": {
      "displayName": "girish vesangi",
      "userId": "11780172303041565246"
     },
     "user_tz": -330
    },
    "id": "kD-Fd2wchaJ1",
    "outputId": "892e0a28-6b65-4eac-ea3d-0e69e1d79410"
   },
   "outputs": [
    {
     "data": {
      "text/plain": [
       "array([[[[200, 200, 200],\n",
       "         [200, 200, 200],\n",
       "         [200, 200, 200],\n",
       "         ...,\n",
       "         [177, 177, 177],\n",
       "         [177, 177, 177],\n",
       "         [177, 177, 177]],\n",
       "\n",
       "        [[200, 200, 200],\n",
       "         [200, 200, 200],\n",
       "         [200, 200, 200],\n",
       "         ...,\n",
       "         [177, 177, 177],\n",
       "         [177, 177, 177],\n",
       "         [177, 177, 177]],\n",
       "\n",
       "        [[200, 200, 200],\n",
       "         [200, 200, 200],\n",
       "         [200, 200, 200],\n",
       "         ...,\n",
       "         [178, 178, 178],\n",
       "         [177, 177, 177],\n",
       "         [177, 177, 177]],\n",
       "\n",
       "        ...,\n",
       "\n",
       "        [[107, 107, 107],\n",
       "         [107, 107, 107],\n",
       "         [106, 106, 106],\n",
       "         ...,\n",
       "         [111, 111, 111],\n",
       "         [109, 109, 109],\n",
       "         [109, 109, 109]],\n",
       "\n",
       "        [[106, 106, 106],\n",
       "         [106, 106, 106],\n",
       "         [105, 105, 105],\n",
       "         ...,\n",
       "         [110, 110, 110],\n",
       "         [108, 108, 108],\n",
       "         [108, 108, 108]],\n",
       "\n",
       "        [[106, 106, 106],\n",
       "         [106, 106, 106],\n",
       "         [105, 105, 105],\n",
       "         ...,\n",
       "         [110, 110, 110],\n",
       "         [108, 108, 108],\n",
       "         [108, 108, 108]]],\n",
       "\n",
       "\n",
       "       [[[160, 160, 160],\n",
       "         [160, 160, 160],\n",
       "         [160, 160, 160],\n",
       "         ...,\n",
       "         [173, 173, 173],\n",
       "         [174, 174, 174],\n",
       "         [174, 174, 174]],\n",
       "\n",
       "        [[160, 160, 160],\n",
       "         [160, 160, 160],\n",
       "         [160, 160, 160],\n",
       "         ...,\n",
       "         [173, 173, 173],\n",
       "         [174, 174, 174],\n",
       "         [174, 174, 174]],\n",
       "\n",
       "        [[160, 160, 160],\n",
       "         [160, 160, 160],\n",
       "         [160, 160, 160],\n",
       "         ...,\n",
       "         [172, 172, 172],\n",
       "         [173, 173, 173],\n",
       "         [173, 173, 173]],\n",
       "\n",
       "        ...,\n",
       "\n",
       "        [[ 26,  26,  26],\n",
       "         [ 26,  26,  26],\n",
       "         [ 26,  26,  26],\n",
       "         ...,\n",
       "         [182, 182, 182],\n",
       "         [182, 182, 182],\n",
       "         [182, 182, 182]],\n",
       "\n",
       "        [[ 26,  26,  26],\n",
       "         [ 26,  26,  26],\n",
       "         [ 26,  26,  26],\n",
       "         ...,\n",
       "         [182, 182, 182],\n",
       "         [182, 182, 182],\n",
       "         [182, 182, 182]],\n",
       "\n",
       "        [[ 26,  26,  26],\n",
       "         [ 26,  26,  26],\n",
       "         [ 26,  26,  26],\n",
       "         ...,\n",
       "         [182, 182, 182],\n",
       "         [182, 182, 182],\n",
       "         [182, 182, 182]]],\n",
       "\n",
       "\n",
       "       [[[201, 201, 201],\n",
       "         [201, 201, 201],\n",
       "         [199, 199, 199],\n",
       "         ...,\n",
       "         [197, 197, 197],\n",
       "         [197, 197, 197],\n",
       "         [197, 197, 197]],\n",
       "\n",
       "        [[201, 201, 201],\n",
       "         [201, 201, 201],\n",
       "         [199, 199, 199],\n",
       "         ...,\n",
       "         [197, 197, 197],\n",
       "         [197, 197, 197],\n",
       "         [197, 197, 197]],\n",
       "\n",
       "        [[202, 202, 202],\n",
       "         [202, 202, 202],\n",
       "         [200, 200, 200],\n",
       "         ...,\n",
       "         [198, 198, 198],\n",
       "         [197, 197, 197],\n",
       "         [197, 197, 197]],\n",
       "\n",
       "        ...,\n",
       "\n",
       "        [[234, 234, 234],\n",
       "         [234, 234, 234],\n",
       "         [233, 233, 233],\n",
       "         ...,\n",
       "         [232, 232, 232],\n",
       "         [233, 233, 233],\n",
       "         [233, 233, 233]],\n",
       "\n",
       "        [[234, 234, 234],\n",
       "         [234, 234, 234],\n",
       "         [233, 233, 233],\n",
       "         ...,\n",
       "         [232, 232, 232],\n",
       "         [233, 233, 233],\n",
       "         [233, 233, 233]],\n",
       "\n",
       "        [[234, 234, 234],\n",
       "         [234, 234, 234],\n",
       "         [234, 234, 234],\n",
       "         ...,\n",
       "         [232, 232, 232],\n",
       "         [233, 233, 233],\n",
       "         [233, 233, 233]]],\n",
       "\n",
       "\n",
       "       ...,\n",
       "\n",
       "\n",
       "       [[[177, 177, 177],\n",
       "         [177, 177, 177],\n",
       "         [177, 177, 177],\n",
       "         ...,\n",
       "         [173, 173, 173],\n",
       "         [173, 173, 173],\n",
       "         [173, 173, 173]],\n",
       "\n",
       "        [[177, 177, 177],\n",
       "         [177, 177, 177],\n",
       "         [177, 177, 177],\n",
       "         ...,\n",
       "         [173, 173, 173],\n",
       "         [173, 173, 173],\n",
       "         [173, 173, 173]],\n",
       "\n",
       "        [[177, 177, 177],\n",
       "         [177, 177, 177],\n",
       "         [177, 177, 177],\n",
       "         ...,\n",
       "         [173, 173, 173],\n",
       "         [173, 173, 173],\n",
       "         [173, 173, 173]],\n",
       "\n",
       "        ...,\n",
       "\n",
       "        [[179, 179, 179],\n",
       "         [179, 179, 179],\n",
       "         [179, 179, 179],\n",
       "         ...,\n",
       "         [113, 113, 113],\n",
       "         [113, 113, 113],\n",
       "         [113, 113, 113]],\n",
       "\n",
       "        [[179, 179, 179],\n",
       "         [179, 179, 179],\n",
       "         [179, 179, 179],\n",
       "         ...,\n",
       "         [114, 114, 114],\n",
       "         [114, 114, 114],\n",
       "         [114, 114, 114]],\n",
       "\n",
       "        [[179, 179, 179],\n",
       "         [179, 179, 179],\n",
       "         [179, 179, 179],\n",
       "         ...,\n",
       "         [114, 114, 114],\n",
       "         [114, 114, 114],\n",
       "         [114, 114, 114]]],\n",
       "\n",
       "\n",
       "       [[[ 41,  41,  41],\n",
       "         [ 41,  41,  41],\n",
       "         [ 42,  42,  42],\n",
       "         ...,\n",
       "         [255, 255, 255],\n",
       "         [255, 255, 255],\n",
       "         [255, 255, 255]],\n",
       "\n",
       "        [[ 41,  41,  41],\n",
       "         [ 41,  41,  41],\n",
       "         [ 41,  41,  41],\n",
       "         ...,\n",
       "         [255, 255, 255],\n",
       "         [255, 255, 255],\n",
       "         [255, 255, 255]],\n",
       "\n",
       "        [[ 42,  42,  42],\n",
       "         [ 42,  42,  42],\n",
       "         [ 42,  42,  42],\n",
       "         ...,\n",
       "         [255, 255, 255],\n",
       "         [255, 255, 255],\n",
       "         [255, 255, 255]],\n",
       "\n",
       "        ...,\n",
       "\n",
       "        [[162, 162, 162],\n",
       "         [162, 162, 162],\n",
       "         [161, 161, 161],\n",
       "         ...,\n",
       "         [255, 255, 255],\n",
       "         [255, 255, 255],\n",
       "         [255, 255, 255]],\n",
       "\n",
       "        [[162, 162, 162],\n",
       "         [162, 162, 162],\n",
       "         [161, 161, 161],\n",
       "         ...,\n",
       "         [255, 255, 255],\n",
       "         [255, 255, 255],\n",
       "         [255, 255, 255]],\n",
       "\n",
       "        [[162, 162, 162],\n",
       "         [162, 162, 162],\n",
       "         [162, 162, 162],\n",
       "         ...,\n",
       "         [255, 255, 255],\n",
       "         [255, 255, 255],\n",
       "         [255, 255, 255]]],\n",
       "\n",
       "\n",
       "       [[[ 38,  38,  38],\n",
       "         [ 38,  38,  38],\n",
       "         [ 38,  38,  38],\n",
       "         ...,\n",
       "         [  0,   0,   0],\n",
       "         [  0,   0,   0],\n",
       "         [  0,   0,   0]],\n",
       "\n",
       "        [[ 38,  38,  38],\n",
       "         [ 38,  38,  38],\n",
       "         [ 37,  37,  37],\n",
       "         ...,\n",
       "         [  0,   0,   0],\n",
       "         [  0,   0,   0],\n",
       "         [  0,   0,   0]],\n",
       "\n",
       "        [[ 38,  38,  38],\n",
       "         [ 38,  38,  38],\n",
       "         [ 38,  38,  38],\n",
       "         ...,\n",
       "         [  0,   0,   0],\n",
       "         [  0,   0,   0],\n",
       "         [  0,   0,   0]],\n",
       "\n",
       "        ...,\n",
       "\n",
       "        [[  7,   7,   7],\n",
       "         [  7,   7,   7],\n",
       "         [  7,   7,   7],\n",
       "         ...,\n",
       "         [  1,   1,   1],\n",
       "         [  1,   1,   1],\n",
       "         [  1,   1,   1]],\n",
       "\n",
       "        [[  7,   7,   7],\n",
       "         [  7,   7,   7],\n",
       "         [  7,   7,   7],\n",
       "         ...,\n",
       "         [  1,   1,   1],\n",
       "         [  1,   1,   1],\n",
       "         [  1,   1,   1]],\n",
       "\n",
       "        [[  7,   7,   7],\n",
       "         [  7,   7,   7],\n",
       "         [  7,   7,   7],\n",
       "         ...,\n",
       "         [  1,   1,   1],\n",
       "         [  1,   1,   1],\n",
       "         [  1,   1,   1]]]], dtype=uint8)"
      ]
     },
     "execution_count": 15,
     "metadata": {},
     "output_type": "execute_result"
    }
   ],
   "source": [
    "x"
   ]
  },
  {
   "cell_type": "code",
   "execution_count": 16,
   "metadata": {
    "executionInfo": {
     "elapsed": 805,
     "status": "ok",
     "timestamp": 1704258568015,
     "user": {
      "displayName": "girish vesangi",
      "userId": "11780172303041565246"
     },
     "user_tz": -330
    },
    "id": "CCt-iNrLhfS9"
   },
   "outputs": [],
   "source": [
    "# def normalize_images_in_batches(images_array, batch_size):\n",
    "#     num_images = images_array.shape[0]\n",
    "#     normalized_array = np.empty_like(images_array, dtype=np.float32)\n",
    "\n",
    "#     for i in range(0, num_images, batch_size):\n",
    "#         batch_images = images_array[i:i+batch_size]\n",
    "\n",
    "#         # Normalize batch\n",
    "#         normalized_batch = batch_images / 255.0\n",
    "\n",
    "#         # Assign normalized batch to the corresponding part of the result array\n",
    "#         normalized_array[i:i+batch_size] = normalized_batch\n",
    "\n",
    "#     return normalized_array\n",
    "\n",
    "# # Example usage:\n",
    "# # Assuming 'your_images_array' is your NumPy array containing images\n",
    "# x= normalize_images_in_batches(x,1000)\n",
    "x=x/255.0"
   ]
  },
  {
   "cell_type": "code",
   "execution_count": 17,
   "metadata": {
    "colab": {
     "base_uri": "https://localhost:8080/"
    },
    "executionInfo": {
     "elapsed": 10,
     "status": "ok",
     "timestamp": 1704258568687,
     "user": {
      "displayName": "girish vesangi",
      "userId": "11780172303041565246"
     },
     "user_tz": -330
    },
    "id": "G9q2m2AMhkDh",
    "outputId": "5f6602f4-4e41-4293-e605-43387c970d4d"
   },
   "outputs": [
    {
     "data": {
      "text/plain": [
       "array([[[[0.78431373, 0.78431373, 0.78431373],\n",
       "         [0.78431373, 0.78431373, 0.78431373],\n",
       "         [0.78431373, 0.78431373, 0.78431373],\n",
       "         ...,\n",
       "         [0.69411765, 0.69411765, 0.69411765],\n",
       "         [0.69411765, 0.69411765, 0.69411765],\n",
       "         [0.69411765, 0.69411765, 0.69411765]],\n",
       "\n",
       "        [[0.78431373, 0.78431373, 0.78431373],\n",
       "         [0.78431373, 0.78431373, 0.78431373],\n",
       "         [0.78431373, 0.78431373, 0.78431373],\n",
       "         ...,\n",
       "         [0.69411765, 0.69411765, 0.69411765],\n",
       "         [0.69411765, 0.69411765, 0.69411765],\n",
       "         [0.69411765, 0.69411765, 0.69411765]],\n",
       "\n",
       "        [[0.78431373, 0.78431373, 0.78431373],\n",
       "         [0.78431373, 0.78431373, 0.78431373],\n",
       "         [0.78431373, 0.78431373, 0.78431373],\n",
       "         ...,\n",
       "         [0.69803922, 0.69803922, 0.69803922],\n",
       "         [0.69411765, 0.69411765, 0.69411765],\n",
       "         [0.69411765, 0.69411765, 0.69411765]],\n",
       "\n",
       "        ...,\n",
       "\n",
       "        [[0.41960784, 0.41960784, 0.41960784],\n",
       "         [0.41960784, 0.41960784, 0.41960784],\n",
       "         [0.41568627, 0.41568627, 0.41568627],\n",
       "         ...,\n",
       "         [0.43529412, 0.43529412, 0.43529412],\n",
       "         [0.42745098, 0.42745098, 0.42745098],\n",
       "         [0.42745098, 0.42745098, 0.42745098]],\n",
       "\n",
       "        [[0.41568627, 0.41568627, 0.41568627],\n",
       "         [0.41568627, 0.41568627, 0.41568627],\n",
       "         [0.41176471, 0.41176471, 0.41176471],\n",
       "         ...,\n",
       "         [0.43137255, 0.43137255, 0.43137255],\n",
       "         [0.42352941, 0.42352941, 0.42352941],\n",
       "         [0.42352941, 0.42352941, 0.42352941]],\n",
       "\n",
       "        [[0.41568627, 0.41568627, 0.41568627],\n",
       "         [0.41568627, 0.41568627, 0.41568627],\n",
       "         [0.41176471, 0.41176471, 0.41176471],\n",
       "         ...,\n",
       "         [0.43137255, 0.43137255, 0.43137255],\n",
       "         [0.42352941, 0.42352941, 0.42352941],\n",
       "         [0.42352941, 0.42352941, 0.42352941]]],\n",
       "\n",
       "\n",
       "       [[[0.62745098, 0.62745098, 0.62745098],\n",
       "         [0.62745098, 0.62745098, 0.62745098],\n",
       "         [0.62745098, 0.62745098, 0.62745098],\n",
       "         ...,\n",
       "         [0.67843137, 0.67843137, 0.67843137],\n",
       "         [0.68235294, 0.68235294, 0.68235294],\n",
       "         [0.68235294, 0.68235294, 0.68235294]],\n",
       "\n",
       "        [[0.62745098, 0.62745098, 0.62745098],\n",
       "         [0.62745098, 0.62745098, 0.62745098],\n",
       "         [0.62745098, 0.62745098, 0.62745098],\n",
       "         ...,\n",
       "         [0.67843137, 0.67843137, 0.67843137],\n",
       "         [0.68235294, 0.68235294, 0.68235294],\n",
       "         [0.68235294, 0.68235294, 0.68235294]],\n",
       "\n",
       "        [[0.62745098, 0.62745098, 0.62745098],\n",
       "         [0.62745098, 0.62745098, 0.62745098],\n",
       "         [0.62745098, 0.62745098, 0.62745098],\n",
       "         ...,\n",
       "         [0.6745098 , 0.6745098 , 0.6745098 ],\n",
       "         [0.67843137, 0.67843137, 0.67843137],\n",
       "         [0.67843137, 0.67843137, 0.67843137]],\n",
       "\n",
       "        ...,\n",
       "\n",
       "        [[0.10196078, 0.10196078, 0.10196078],\n",
       "         [0.10196078, 0.10196078, 0.10196078],\n",
       "         [0.10196078, 0.10196078, 0.10196078],\n",
       "         ...,\n",
       "         [0.71372549, 0.71372549, 0.71372549],\n",
       "         [0.71372549, 0.71372549, 0.71372549],\n",
       "         [0.71372549, 0.71372549, 0.71372549]],\n",
       "\n",
       "        [[0.10196078, 0.10196078, 0.10196078],\n",
       "         [0.10196078, 0.10196078, 0.10196078],\n",
       "         [0.10196078, 0.10196078, 0.10196078],\n",
       "         ...,\n",
       "         [0.71372549, 0.71372549, 0.71372549],\n",
       "         [0.71372549, 0.71372549, 0.71372549],\n",
       "         [0.71372549, 0.71372549, 0.71372549]],\n",
       "\n",
       "        [[0.10196078, 0.10196078, 0.10196078],\n",
       "         [0.10196078, 0.10196078, 0.10196078],\n",
       "         [0.10196078, 0.10196078, 0.10196078],\n",
       "         ...,\n",
       "         [0.71372549, 0.71372549, 0.71372549],\n",
       "         [0.71372549, 0.71372549, 0.71372549],\n",
       "         [0.71372549, 0.71372549, 0.71372549]]],\n",
       "\n",
       "\n",
       "       [[[0.78823529, 0.78823529, 0.78823529],\n",
       "         [0.78823529, 0.78823529, 0.78823529],\n",
       "         [0.78039216, 0.78039216, 0.78039216],\n",
       "         ...,\n",
       "         [0.77254902, 0.77254902, 0.77254902],\n",
       "         [0.77254902, 0.77254902, 0.77254902],\n",
       "         [0.77254902, 0.77254902, 0.77254902]],\n",
       "\n",
       "        [[0.78823529, 0.78823529, 0.78823529],\n",
       "         [0.78823529, 0.78823529, 0.78823529],\n",
       "         [0.78039216, 0.78039216, 0.78039216],\n",
       "         ...,\n",
       "         [0.77254902, 0.77254902, 0.77254902],\n",
       "         [0.77254902, 0.77254902, 0.77254902],\n",
       "         [0.77254902, 0.77254902, 0.77254902]],\n",
       "\n",
       "        [[0.79215686, 0.79215686, 0.79215686],\n",
       "         [0.79215686, 0.79215686, 0.79215686],\n",
       "         [0.78431373, 0.78431373, 0.78431373],\n",
       "         ...,\n",
       "         [0.77647059, 0.77647059, 0.77647059],\n",
       "         [0.77254902, 0.77254902, 0.77254902],\n",
       "         [0.77254902, 0.77254902, 0.77254902]],\n",
       "\n",
       "        ...,\n",
       "\n",
       "        [[0.91764706, 0.91764706, 0.91764706],\n",
       "         [0.91764706, 0.91764706, 0.91764706],\n",
       "         [0.91372549, 0.91372549, 0.91372549],\n",
       "         ...,\n",
       "         [0.90980392, 0.90980392, 0.90980392],\n",
       "         [0.91372549, 0.91372549, 0.91372549],\n",
       "         [0.91372549, 0.91372549, 0.91372549]],\n",
       "\n",
       "        [[0.91764706, 0.91764706, 0.91764706],\n",
       "         [0.91764706, 0.91764706, 0.91764706],\n",
       "         [0.91372549, 0.91372549, 0.91372549],\n",
       "         ...,\n",
       "         [0.90980392, 0.90980392, 0.90980392],\n",
       "         [0.91372549, 0.91372549, 0.91372549],\n",
       "         [0.91372549, 0.91372549, 0.91372549]],\n",
       "\n",
       "        [[0.91764706, 0.91764706, 0.91764706],\n",
       "         [0.91764706, 0.91764706, 0.91764706],\n",
       "         [0.91764706, 0.91764706, 0.91764706],\n",
       "         ...,\n",
       "         [0.90980392, 0.90980392, 0.90980392],\n",
       "         [0.91372549, 0.91372549, 0.91372549],\n",
       "         [0.91372549, 0.91372549, 0.91372549]]],\n",
       "\n",
       "\n",
       "       ...,\n",
       "\n",
       "\n",
       "       [[[0.69411765, 0.69411765, 0.69411765],\n",
       "         [0.69411765, 0.69411765, 0.69411765],\n",
       "         [0.69411765, 0.69411765, 0.69411765],\n",
       "         ...,\n",
       "         [0.67843137, 0.67843137, 0.67843137],\n",
       "         [0.67843137, 0.67843137, 0.67843137],\n",
       "         [0.67843137, 0.67843137, 0.67843137]],\n",
       "\n",
       "        [[0.69411765, 0.69411765, 0.69411765],\n",
       "         [0.69411765, 0.69411765, 0.69411765],\n",
       "         [0.69411765, 0.69411765, 0.69411765],\n",
       "         ...,\n",
       "         [0.67843137, 0.67843137, 0.67843137],\n",
       "         [0.67843137, 0.67843137, 0.67843137],\n",
       "         [0.67843137, 0.67843137, 0.67843137]],\n",
       "\n",
       "        [[0.69411765, 0.69411765, 0.69411765],\n",
       "         [0.69411765, 0.69411765, 0.69411765],\n",
       "         [0.69411765, 0.69411765, 0.69411765],\n",
       "         ...,\n",
       "         [0.67843137, 0.67843137, 0.67843137],\n",
       "         [0.67843137, 0.67843137, 0.67843137],\n",
       "         [0.67843137, 0.67843137, 0.67843137]],\n",
       "\n",
       "        ...,\n",
       "\n",
       "        [[0.70196078, 0.70196078, 0.70196078],\n",
       "         [0.70196078, 0.70196078, 0.70196078],\n",
       "         [0.70196078, 0.70196078, 0.70196078],\n",
       "         ...,\n",
       "         [0.44313725, 0.44313725, 0.44313725],\n",
       "         [0.44313725, 0.44313725, 0.44313725],\n",
       "         [0.44313725, 0.44313725, 0.44313725]],\n",
       "\n",
       "        [[0.70196078, 0.70196078, 0.70196078],\n",
       "         [0.70196078, 0.70196078, 0.70196078],\n",
       "         [0.70196078, 0.70196078, 0.70196078],\n",
       "         ...,\n",
       "         [0.44705882, 0.44705882, 0.44705882],\n",
       "         [0.44705882, 0.44705882, 0.44705882],\n",
       "         [0.44705882, 0.44705882, 0.44705882]],\n",
       "\n",
       "        [[0.70196078, 0.70196078, 0.70196078],\n",
       "         [0.70196078, 0.70196078, 0.70196078],\n",
       "         [0.70196078, 0.70196078, 0.70196078],\n",
       "         ...,\n",
       "         [0.44705882, 0.44705882, 0.44705882],\n",
       "         [0.44705882, 0.44705882, 0.44705882],\n",
       "         [0.44705882, 0.44705882, 0.44705882]]],\n",
       "\n",
       "\n",
       "       [[[0.16078431, 0.16078431, 0.16078431],\n",
       "         [0.16078431, 0.16078431, 0.16078431],\n",
       "         [0.16470588, 0.16470588, 0.16470588],\n",
       "         ...,\n",
       "         [1.        , 1.        , 1.        ],\n",
       "         [1.        , 1.        , 1.        ],\n",
       "         [1.        , 1.        , 1.        ]],\n",
       "\n",
       "        [[0.16078431, 0.16078431, 0.16078431],\n",
       "         [0.16078431, 0.16078431, 0.16078431],\n",
       "         [0.16078431, 0.16078431, 0.16078431],\n",
       "         ...,\n",
       "         [1.        , 1.        , 1.        ],\n",
       "         [1.        , 1.        , 1.        ],\n",
       "         [1.        , 1.        , 1.        ]],\n",
       "\n",
       "        [[0.16470588, 0.16470588, 0.16470588],\n",
       "         [0.16470588, 0.16470588, 0.16470588],\n",
       "         [0.16470588, 0.16470588, 0.16470588],\n",
       "         ...,\n",
       "         [1.        , 1.        , 1.        ],\n",
       "         [1.        , 1.        , 1.        ],\n",
       "         [1.        , 1.        , 1.        ]],\n",
       "\n",
       "        ...,\n",
       "\n",
       "        [[0.63529412, 0.63529412, 0.63529412],\n",
       "         [0.63529412, 0.63529412, 0.63529412],\n",
       "         [0.63137255, 0.63137255, 0.63137255],\n",
       "         ...,\n",
       "         [1.        , 1.        , 1.        ],\n",
       "         [1.        , 1.        , 1.        ],\n",
       "         [1.        , 1.        , 1.        ]],\n",
       "\n",
       "        [[0.63529412, 0.63529412, 0.63529412],\n",
       "         [0.63529412, 0.63529412, 0.63529412],\n",
       "         [0.63137255, 0.63137255, 0.63137255],\n",
       "         ...,\n",
       "         [1.        , 1.        , 1.        ],\n",
       "         [1.        , 1.        , 1.        ],\n",
       "         [1.        , 1.        , 1.        ]],\n",
       "\n",
       "        [[0.63529412, 0.63529412, 0.63529412],\n",
       "         [0.63529412, 0.63529412, 0.63529412],\n",
       "         [0.63529412, 0.63529412, 0.63529412],\n",
       "         ...,\n",
       "         [1.        , 1.        , 1.        ],\n",
       "         [1.        , 1.        , 1.        ],\n",
       "         [1.        , 1.        , 1.        ]]],\n",
       "\n",
       "\n",
       "       [[[0.14901961, 0.14901961, 0.14901961],\n",
       "         [0.14901961, 0.14901961, 0.14901961],\n",
       "         [0.14901961, 0.14901961, 0.14901961],\n",
       "         ...,\n",
       "         [0.        , 0.        , 0.        ],\n",
       "         [0.        , 0.        , 0.        ],\n",
       "         [0.        , 0.        , 0.        ]],\n",
       "\n",
       "        [[0.14901961, 0.14901961, 0.14901961],\n",
       "         [0.14901961, 0.14901961, 0.14901961],\n",
       "         [0.14509804, 0.14509804, 0.14509804],\n",
       "         ...,\n",
       "         [0.        , 0.        , 0.        ],\n",
       "         [0.        , 0.        , 0.        ],\n",
       "         [0.        , 0.        , 0.        ]],\n",
       "\n",
       "        [[0.14901961, 0.14901961, 0.14901961],\n",
       "         [0.14901961, 0.14901961, 0.14901961],\n",
       "         [0.14901961, 0.14901961, 0.14901961],\n",
       "         ...,\n",
       "         [0.        , 0.        , 0.        ],\n",
       "         [0.        , 0.        , 0.        ],\n",
       "         [0.        , 0.        , 0.        ]],\n",
       "\n",
       "        ...,\n",
       "\n",
       "        [[0.02745098, 0.02745098, 0.02745098],\n",
       "         [0.02745098, 0.02745098, 0.02745098],\n",
       "         [0.02745098, 0.02745098, 0.02745098],\n",
       "         ...,\n",
       "         [0.00392157, 0.00392157, 0.00392157],\n",
       "         [0.00392157, 0.00392157, 0.00392157],\n",
       "         [0.00392157, 0.00392157, 0.00392157]],\n",
       "\n",
       "        [[0.02745098, 0.02745098, 0.02745098],\n",
       "         [0.02745098, 0.02745098, 0.02745098],\n",
       "         [0.02745098, 0.02745098, 0.02745098],\n",
       "         ...,\n",
       "         [0.00392157, 0.00392157, 0.00392157],\n",
       "         [0.00392157, 0.00392157, 0.00392157],\n",
       "         [0.00392157, 0.00392157, 0.00392157]],\n",
       "\n",
       "        [[0.02745098, 0.02745098, 0.02745098],\n",
       "         [0.02745098, 0.02745098, 0.02745098],\n",
       "         [0.02745098, 0.02745098, 0.02745098],\n",
       "         ...,\n",
       "         [0.00392157, 0.00392157, 0.00392157],\n",
       "         [0.00392157, 0.00392157, 0.00392157],\n",
       "         [0.00392157, 0.00392157, 0.00392157]]]])"
      ]
     },
     "execution_count": 17,
     "metadata": {},
     "output_type": "execute_result"
    }
   ],
   "source": [
    "x"
   ]
  },
  {
   "cell_type": "code",
   "execution_count": 18,
   "metadata": {
    "executionInfo": {
     "elapsed": 873,
     "status": "ok",
     "timestamp": 1704258571848,
     "user": {
      "displayName": "girish vesangi",
      "userId": "11780172303041565246"
     },
     "user_tz": -330
    },
    "id": "9zXl9Y9psQhB"
   },
   "outputs": [],
   "source": [
    "import tensorflow as tf\n",
    "from tensorflow import keras\n",
    "from tensorflow.keras import layers"
   ]
  },
  {
   "cell_type": "code",
   "execution_count": 19,
   "metadata": {
    "executionInfo": {
     "elapsed": 2730,
     "status": "ok",
     "timestamp": 1704258576611,
     "user": {
      "displayName": "girish vesangi",
      "userId": "11780172303041565246"
     },
     "user_tz": -330
    },
    "id": "TFrGQxkfsURj"
   },
   "outputs": [],
   "source": [
    "model=tf.keras.applications.MobileNetV2()"
   ]
  },
  {
   "cell_type": "code",
   "execution_count": 20,
   "metadata": {
    "colab": {
     "base_uri": "https://localhost:8080/"
    },
    "executionInfo": {
     "elapsed": 1975,
     "status": "ok",
     "timestamp": 1704258580293,
     "user": {
      "displayName": "girish vesangi",
      "userId": "11780172303041565246"
     },
     "user_tz": -330
    },
    "id": "L4XDqeK3sbNP",
    "outputId": "a3269308-7845-40c5-8ec3-f27d321d7d35"
   },
   "outputs": [
    {
     "name": "stdout",
     "output_type": "stream",
     "text": [
      "Model: \"mobilenetv2_1.00_224\"\n",
      "__________________________________________________________________________________________________\n",
      " Layer (type)                Output Shape                 Param #   Connected to                  \n",
      "==================================================================================================\n",
      " input_1 (InputLayer)        [(None, 224, 224, 3)]        0         []                            \n",
      "                                                                                                  \n",
      " Conv1 (Conv2D)              (None, 112, 112, 32)         864       ['input_1[0][0]']             \n",
      "                                                                                                  \n",
      " bn_Conv1 (BatchNormalizati  (None, 112, 112, 32)         128       ['Conv1[0][0]']               \n",
      " on)                                                                                              \n",
      "                                                                                                  \n",
      " Conv1_relu (ReLU)           (None, 112, 112, 32)         0         ['bn_Conv1[0][0]']            \n",
      "                                                                                                  \n",
      " expanded_conv_depthwise (D  (None, 112, 112, 32)         288       ['Conv1_relu[0][0]']          \n",
      " epthwiseConv2D)                                                                                  \n",
      "                                                                                                  \n",
      " expanded_conv_depthwise_BN  (None, 112, 112, 32)         128       ['expanded_conv_depthwise[0][0\n",
      "  (BatchNormalization)                                              ]']                           \n",
      "                                                                                                  \n",
      " expanded_conv_depthwise_re  (None, 112, 112, 32)         0         ['expanded_conv_depthwise_BN[0\n",
      " lu (ReLU)                                                          ][0]']                        \n",
      "                                                                                                  \n",
      " expanded_conv_project (Con  (None, 112, 112, 16)         512       ['expanded_conv_depthwise_relu\n",
      " v2D)                                                               [0][0]']                      \n",
      "                                                                                                  \n",
      " expanded_conv_project_BN (  (None, 112, 112, 16)         64        ['expanded_conv_project[0][0]'\n",
      " BatchNormalization)                                                ]                             \n",
      "                                                                                                  \n",
      " block_1_expand (Conv2D)     (None, 112, 112, 96)         1536      ['expanded_conv_project_BN[0][\n",
      "                                                                    0]']                          \n",
      "                                                                                                  \n",
      " block_1_expand_BN (BatchNo  (None, 112, 112, 96)         384       ['block_1_expand[0][0]']      \n",
      " rmalization)                                                                                     \n",
      "                                                                                                  \n",
      " block_1_expand_relu (ReLU)  (None, 112, 112, 96)         0         ['block_1_expand_BN[0][0]']   \n",
      "                                                                                                  \n",
      " block_1_pad (ZeroPadding2D  (None, 113, 113, 96)         0         ['block_1_expand_relu[0][0]'] \n",
      " )                                                                                                \n",
      "                                                                                                  \n",
      " block_1_depthwise (Depthwi  (None, 56, 56, 96)           864       ['block_1_pad[0][0]']         \n",
      " seConv2D)                                                                                        \n",
      "                                                                                                  \n",
      " block_1_depthwise_BN (Batc  (None, 56, 56, 96)           384       ['block_1_depthwise[0][0]']   \n",
      " hNormalization)                                                                                  \n",
      "                                                                                                  \n",
      " block_1_depthwise_relu (Re  (None, 56, 56, 96)           0         ['block_1_depthwise_BN[0][0]']\n",
      " LU)                                                                                              \n",
      "                                                                                                  \n",
      " block_1_project (Conv2D)    (None, 56, 56, 24)           2304      ['block_1_depthwise_relu[0][0]\n",
      "                                                                    ']                            \n",
      "                                                                                                  \n",
      " block_1_project_BN (BatchN  (None, 56, 56, 24)           96        ['block_1_project[0][0]']     \n",
      " ormalization)                                                                                    \n",
      "                                                                                                  \n",
      " block_2_expand (Conv2D)     (None, 56, 56, 144)          3456      ['block_1_project_BN[0][0]']  \n",
      "                                                                                                  \n",
      " block_2_expand_BN (BatchNo  (None, 56, 56, 144)          576       ['block_2_expand[0][0]']      \n",
      " rmalization)                                                                                     \n",
      "                                                                                                  \n",
      " block_2_expand_relu (ReLU)  (None, 56, 56, 144)          0         ['block_2_expand_BN[0][0]']   \n",
      "                                                                                                  \n",
      " block_2_depthwise (Depthwi  (None, 56, 56, 144)          1296      ['block_2_expand_relu[0][0]'] \n",
      " seConv2D)                                                                                        \n",
      "                                                                                                  \n",
      " block_2_depthwise_BN (Batc  (None, 56, 56, 144)          576       ['block_2_depthwise[0][0]']   \n",
      " hNormalization)                                                                                  \n",
      "                                                                                                  \n",
      " block_2_depthwise_relu (Re  (None, 56, 56, 144)          0         ['block_2_depthwise_BN[0][0]']\n",
      " LU)                                                                                              \n",
      "                                                                                                  \n",
      " block_2_project (Conv2D)    (None, 56, 56, 24)           3456      ['block_2_depthwise_relu[0][0]\n",
      "                                                                    ']                            \n",
      "                                                                                                  \n",
      " block_2_project_BN (BatchN  (None, 56, 56, 24)           96        ['block_2_project[0][0]']     \n",
      " ormalization)                                                                                    \n",
      "                                                                                                  \n",
      " block_2_add (Add)           (None, 56, 56, 24)           0         ['block_1_project_BN[0][0]',  \n",
      "                                                                     'block_2_project_BN[0][0]']  \n",
      "                                                                                                  \n",
      " block_3_expand (Conv2D)     (None, 56, 56, 144)          3456      ['block_2_add[0][0]']         \n",
      "                                                                                                  \n",
      " block_3_expand_BN (BatchNo  (None, 56, 56, 144)          576       ['block_3_expand[0][0]']      \n",
      " rmalization)                                                                                     \n",
      "                                                                                                  \n",
      " block_3_expand_relu (ReLU)  (None, 56, 56, 144)          0         ['block_3_expand_BN[0][0]']   \n",
      "                                                                                                  \n",
      " block_3_pad (ZeroPadding2D  (None, 57, 57, 144)          0         ['block_3_expand_relu[0][0]'] \n",
      " )                                                                                                \n",
      "                                                                                                  \n",
      " block_3_depthwise (Depthwi  (None, 28, 28, 144)          1296      ['block_3_pad[0][0]']         \n",
      " seConv2D)                                                                                        \n",
      "                                                                                                  \n",
      " block_3_depthwise_BN (Batc  (None, 28, 28, 144)          576       ['block_3_depthwise[0][0]']   \n",
      " hNormalization)                                                                                  \n",
      "                                                                                                  \n",
      " block_3_depthwise_relu (Re  (None, 28, 28, 144)          0         ['block_3_depthwise_BN[0][0]']\n",
      " LU)                                                                                              \n",
      "                                                                                                  \n",
      " block_3_project (Conv2D)    (None, 28, 28, 32)           4608      ['block_3_depthwise_relu[0][0]\n",
      "                                                                    ']                            \n",
      "                                                                                                  \n",
      " block_3_project_BN (BatchN  (None, 28, 28, 32)           128       ['block_3_project[0][0]']     \n",
      " ormalization)                                                                                    \n",
      "                                                                                                  \n",
      " block_4_expand (Conv2D)     (None, 28, 28, 192)          6144      ['block_3_project_BN[0][0]']  \n",
      "                                                                                                  \n",
      " block_4_expand_BN (BatchNo  (None, 28, 28, 192)          768       ['block_4_expand[0][0]']      \n",
      " rmalization)                                                                                     \n",
      "                                                                                                  \n",
      " block_4_expand_relu (ReLU)  (None, 28, 28, 192)          0         ['block_4_expand_BN[0][0]']   \n",
      "                                                                                                  \n",
      " block_4_depthwise (Depthwi  (None, 28, 28, 192)          1728      ['block_4_expand_relu[0][0]'] \n",
      " seConv2D)                                                                                        \n",
      "                                                                                                  \n",
      " block_4_depthwise_BN (Batc  (None, 28, 28, 192)          768       ['block_4_depthwise[0][0]']   \n",
      " hNormalization)                                                                                  \n",
      "                                                                                                  \n",
      " block_4_depthwise_relu (Re  (None, 28, 28, 192)          0         ['block_4_depthwise_BN[0][0]']\n",
      " LU)                                                                                              \n",
      "                                                                                                  \n",
      " block_4_project (Conv2D)    (None, 28, 28, 32)           6144      ['block_4_depthwise_relu[0][0]\n",
      "                                                                    ']                            \n",
      "                                                                                                  \n",
      " block_4_project_BN (BatchN  (None, 28, 28, 32)           128       ['block_4_project[0][0]']     \n",
      " ormalization)                                                                                    \n",
      "                                                                                                  \n",
      " block_4_add (Add)           (None, 28, 28, 32)           0         ['block_3_project_BN[0][0]',  \n",
      "                                                                     'block_4_project_BN[0][0]']  \n",
      "                                                                                                  \n",
      " block_5_expand (Conv2D)     (None, 28, 28, 192)          6144      ['block_4_add[0][0]']         \n",
      "                                                                                                  \n",
      " block_5_expand_BN (BatchNo  (None, 28, 28, 192)          768       ['block_5_expand[0][0]']      \n",
      " rmalization)                                                                                     \n",
      "                                                                                                  \n",
      " block_5_expand_relu (ReLU)  (None, 28, 28, 192)          0         ['block_5_expand_BN[0][0]']   \n",
      "                                                                                                  \n",
      " block_5_depthwise (Depthwi  (None, 28, 28, 192)          1728      ['block_5_expand_relu[0][0]'] \n",
      " seConv2D)                                                                                        \n",
      "                                                                                                  \n",
      " block_5_depthwise_BN (Batc  (None, 28, 28, 192)          768       ['block_5_depthwise[0][0]']   \n",
      " hNormalization)                                                                                  \n",
      "                                                                                                  \n",
      " block_5_depthwise_relu (Re  (None, 28, 28, 192)          0         ['block_5_depthwise_BN[0][0]']\n",
      " LU)                                                                                              \n",
      "                                                                                                  \n",
      " block_5_project (Conv2D)    (None, 28, 28, 32)           6144      ['block_5_depthwise_relu[0][0]\n",
      "                                                                    ']                            \n",
      "                                                                                                  \n",
      " block_5_project_BN (BatchN  (None, 28, 28, 32)           128       ['block_5_project[0][0]']     \n",
      " ormalization)                                                                                    \n",
      "                                                                                                  \n",
      " block_5_add (Add)           (None, 28, 28, 32)           0         ['block_4_add[0][0]',         \n",
      "                                                                     'block_5_project_BN[0][0]']  \n",
      "                                                                                                  \n",
      " block_6_expand (Conv2D)     (None, 28, 28, 192)          6144      ['block_5_add[0][0]']         \n",
      "                                                                                                  \n",
      " block_6_expand_BN (BatchNo  (None, 28, 28, 192)          768       ['block_6_expand[0][0]']      \n",
      " rmalization)                                                                                     \n",
      "                                                                                                  \n",
      " block_6_expand_relu (ReLU)  (None, 28, 28, 192)          0         ['block_6_expand_BN[0][0]']   \n",
      "                                                                                                  \n",
      " block_6_pad (ZeroPadding2D  (None, 29, 29, 192)          0         ['block_6_expand_relu[0][0]'] \n",
      " )                                                                                                \n",
      "                                                                                                  \n",
      " block_6_depthwise (Depthwi  (None, 14, 14, 192)          1728      ['block_6_pad[0][0]']         \n",
      " seConv2D)                                                                                        \n",
      "                                                                                                  \n",
      " block_6_depthwise_BN (Batc  (None, 14, 14, 192)          768       ['block_6_depthwise[0][0]']   \n",
      " hNormalization)                                                                                  \n",
      "                                                                                                  \n",
      " block_6_depthwise_relu (Re  (None, 14, 14, 192)          0         ['block_6_depthwise_BN[0][0]']\n",
      " LU)                                                                                              \n",
      "                                                                                                  \n",
      " block_6_project (Conv2D)    (None, 14, 14, 64)           12288     ['block_6_depthwise_relu[0][0]\n",
      "                                                                    ']                            \n",
      "                                                                                                  \n",
      " block_6_project_BN (BatchN  (None, 14, 14, 64)           256       ['block_6_project[0][0]']     \n",
      " ormalization)                                                                                    \n",
      "                                                                                                  \n",
      " block_7_expand (Conv2D)     (None, 14, 14, 384)          24576     ['block_6_project_BN[0][0]']  \n",
      "                                                                                                  \n",
      " block_7_expand_BN (BatchNo  (None, 14, 14, 384)          1536      ['block_7_expand[0][0]']      \n",
      " rmalization)                                                                                     \n",
      "                                                                                                  \n",
      " block_7_expand_relu (ReLU)  (None, 14, 14, 384)          0         ['block_7_expand_BN[0][0]']   \n",
      "                                                                                                  \n",
      " block_7_depthwise (Depthwi  (None, 14, 14, 384)          3456      ['block_7_expand_relu[0][0]'] \n",
      " seConv2D)                                                                                        \n",
      "                                                                                                  \n",
      " block_7_depthwise_BN (Batc  (None, 14, 14, 384)          1536      ['block_7_depthwise[0][0]']   \n",
      " hNormalization)                                                                                  \n",
      "                                                                                                  \n",
      " block_7_depthwise_relu (Re  (None, 14, 14, 384)          0         ['block_7_depthwise_BN[0][0]']\n",
      " LU)                                                                                              \n",
      "                                                                                                  \n",
      " block_7_project (Conv2D)    (None, 14, 14, 64)           24576     ['block_7_depthwise_relu[0][0]\n",
      "                                                                    ']                            \n",
      "                                                                                                  \n",
      " block_7_project_BN (BatchN  (None, 14, 14, 64)           256       ['block_7_project[0][0]']     \n",
      " ormalization)                                                                                    \n",
      "                                                                                                  \n",
      " block_7_add (Add)           (None, 14, 14, 64)           0         ['block_6_project_BN[0][0]',  \n",
      "                                                                     'block_7_project_BN[0][0]']  \n",
      "                                                                                                  \n",
      " block_8_expand (Conv2D)     (None, 14, 14, 384)          24576     ['block_7_add[0][0]']         \n",
      "                                                                                                  \n",
      " block_8_expand_BN (BatchNo  (None, 14, 14, 384)          1536      ['block_8_expand[0][0]']      \n",
      " rmalization)                                                                                     \n",
      "                                                                                                  \n",
      " block_8_expand_relu (ReLU)  (None, 14, 14, 384)          0         ['block_8_expand_BN[0][0]']   \n",
      "                                                                                                  \n",
      " block_8_depthwise (Depthwi  (None, 14, 14, 384)          3456      ['block_8_expand_relu[0][0]'] \n",
      " seConv2D)                                                                                        \n",
      "                                                                                                  \n",
      " block_8_depthwise_BN (Batc  (None, 14, 14, 384)          1536      ['block_8_depthwise[0][0]']   \n",
      " hNormalization)                                                                                  \n",
      "                                                                                                  \n",
      " block_8_depthwise_relu (Re  (None, 14, 14, 384)          0         ['block_8_depthwise_BN[0][0]']\n",
      " LU)                                                                                              \n",
      "                                                                                                  \n",
      " block_8_project (Conv2D)    (None, 14, 14, 64)           24576     ['block_8_depthwise_relu[0][0]\n",
      "                                                                    ']                            \n",
      "                                                                                                  \n",
      " block_8_project_BN (BatchN  (None, 14, 14, 64)           256       ['block_8_project[0][0]']     \n",
      " ormalization)                                                                                    \n",
      "                                                                                                  \n",
      " block_8_add (Add)           (None, 14, 14, 64)           0         ['block_7_add[0][0]',         \n",
      "                                                                     'block_8_project_BN[0][0]']  \n",
      "                                                                                                  \n",
      " block_9_expand (Conv2D)     (None, 14, 14, 384)          24576     ['block_8_add[0][0]']         \n",
      "                                                                                                  \n",
      " block_9_expand_BN (BatchNo  (None, 14, 14, 384)          1536      ['block_9_expand[0][0]']      \n",
      " rmalization)                                                                                     \n",
      "                                                                                                  \n",
      " block_9_expand_relu (ReLU)  (None, 14, 14, 384)          0         ['block_9_expand_BN[0][0]']   \n",
      "                                                                                                  \n",
      " block_9_depthwise (Depthwi  (None, 14, 14, 384)          3456      ['block_9_expand_relu[0][0]'] \n",
      " seConv2D)                                                                                        \n",
      "                                                                                                  \n",
      " block_9_depthwise_BN (Batc  (None, 14, 14, 384)          1536      ['block_9_depthwise[0][0]']   \n",
      " hNormalization)                                                                                  \n",
      "                                                                                                  \n",
      " block_9_depthwise_relu (Re  (None, 14, 14, 384)          0         ['block_9_depthwise_BN[0][0]']\n",
      " LU)                                                                                              \n",
      "                                                                                                  \n",
      " block_9_project (Conv2D)    (None, 14, 14, 64)           24576     ['block_9_depthwise_relu[0][0]\n",
      "                                                                    ']                            \n",
      "                                                                                                  \n",
      " block_9_project_BN (BatchN  (None, 14, 14, 64)           256       ['block_9_project[0][0]']     \n",
      " ormalization)                                                                                    \n",
      "                                                                                                  \n",
      " block_9_add (Add)           (None, 14, 14, 64)           0         ['block_8_add[0][0]',         \n",
      "                                                                     'block_9_project_BN[0][0]']  \n",
      "                                                                                                  \n",
      " block_10_expand (Conv2D)    (None, 14, 14, 384)          24576     ['block_9_add[0][0]']         \n",
      "                                                                                                  \n",
      " block_10_expand_BN (BatchN  (None, 14, 14, 384)          1536      ['block_10_expand[0][0]']     \n",
      " ormalization)                                                                                    \n",
      "                                                                                                  \n",
      " block_10_expand_relu (ReLU  (None, 14, 14, 384)          0         ['block_10_expand_BN[0][0]']  \n",
      " )                                                                                                \n",
      "                                                                                                  \n",
      " block_10_depthwise (Depthw  (None, 14, 14, 384)          3456      ['block_10_expand_relu[0][0]']\n",
      " iseConv2D)                                                                                       \n",
      "                                                                                                  \n",
      " block_10_depthwise_BN (Bat  (None, 14, 14, 384)          1536      ['block_10_depthwise[0][0]']  \n",
      " chNormalization)                                                                                 \n",
      "                                                                                                  \n",
      " block_10_depthwise_relu (R  (None, 14, 14, 384)          0         ['block_10_depthwise_BN[0][0]'\n",
      " eLU)                                                               ]                             \n",
      "                                                                                                  \n",
      " block_10_project (Conv2D)   (None, 14, 14, 96)           36864     ['block_10_depthwise_relu[0][0\n",
      "                                                                    ]']                           \n",
      "                                                                                                  \n",
      " block_10_project_BN (Batch  (None, 14, 14, 96)           384       ['block_10_project[0][0]']    \n",
      " Normalization)                                                                                   \n",
      "                                                                                                  \n",
      " block_11_expand (Conv2D)    (None, 14, 14, 576)          55296     ['block_10_project_BN[0][0]'] \n",
      "                                                                                                  \n",
      " block_11_expand_BN (BatchN  (None, 14, 14, 576)          2304      ['block_11_expand[0][0]']     \n",
      " ormalization)                                                                                    \n",
      "                                                                                                  \n",
      " block_11_expand_relu (ReLU  (None, 14, 14, 576)          0         ['block_11_expand_BN[0][0]']  \n",
      " )                                                                                                \n",
      "                                                                                                  \n",
      " block_11_depthwise (Depthw  (None, 14, 14, 576)          5184      ['block_11_expand_relu[0][0]']\n",
      " iseConv2D)                                                                                       \n",
      "                                                                                                  \n",
      " block_11_depthwise_BN (Bat  (None, 14, 14, 576)          2304      ['block_11_depthwise[0][0]']  \n",
      " chNormalization)                                                                                 \n",
      "                                                                                                  \n",
      " block_11_depthwise_relu (R  (None, 14, 14, 576)          0         ['block_11_depthwise_BN[0][0]'\n",
      " eLU)                                                               ]                             \n",
      "                                                                                                  \n",
      " block_11_project (Conv2D)   (None, 14, 14, 96)           55296     ['block_11_depthwise_relu[0][0\n",
      "                                                                    ]']                           \n",
      "                                                                                                  \n",
      " block_11_project_BN (Batch  (None, 14, 14, 96)           384       ['block_11_project[0][0]']    \n",
      " Normalization)                                                                                   \n",
      "                                                                                                  \n",
      " block_11_add (Add)          (None, 14, 14, 96)           0         ['block_10_project_BN[0][0]', \n",
      "                                                                     'block_11_project_BN[0][0]'] \n",
      "                                                                                                  \n",
      " block_12_expand (Conv2D)    (None, 14, 14, 576)          55296     ['block_11_add[0][0]']        \n",
      "                                                                                                  \n",
      " block_12_expand_BN (BatchN  (None, 14, 14, 576)          2304      ['block_12_expand[0][0]']     \n",
      " ormalization)                                                                                    \n",
      "                                                                                                  \n",
      " block_12_expand_relu (ReLU  (None, 14, 14, 576)          0         ['block_12_expand_BN[0][0]']  \n",
      " )                                                                                                \n",
      "                                                                                                  \n",
      " block_12_depthwise (Depthw  (None, 14, 14, 576)          5184      ['block_12_expand_relu[0][0]']\n",
      " iseConv2D)                                                                                       \n",
      "                                                                                                  \n",
      " block_12_depthwise_BN (Bat  (None, 14, 14, 576)          2304      ['block_12_depthwise[0][0]']  \n",
      " chNormalization)                                                                                 \n",
      "                                                                                                  \n",
      " block_12_depthwise_relu (R  (None, 14, 14, 576)          0         ['block_12_depthwise_BN[0][0]'\n",
      " eLU)                                                               ]                             \n",
      "                                                                                                  \n",
      " block_12_project (Conv2D)   (None, 14, 14, 96)           55296     ['block_12_depthwise_relu[0][0\n",
      "                                                                    ]']                           \n",
      "                                                                                                  \n",
      " block_12_project_BN (Batch  (None, 14, 14, 96)           384       ['block_12_project[0][0]']    \n",
      " Normalization)                                                                                   \n",
      "                                                                                                  \n",
      " block_12_add (Add)          (None, 14, 14, 96)           0         ['block_11_add[0][0]',        \n",
      "                                                                     'block_12_project_BN[0][0]'] \n",
      "                                                                                                  \n",
      " block_13_expand (Conv2D)    (None, 14, 14, 576)          55296     ['block_12_add[0][0]']        \n",
      "                                                                                                  \n",
      " block_13_expand_BN (BatchN  (None, 14, 14, 576)          2304      ['block_13_expand[0][0]']     \n",
      " ormalization)                                                                                    \n",
      "                                                                                                  \n",
      " block_13_expand_relu (ReLU  (None, 14, 14, 576)          0         ['block_13_expand_BN[0][0]']  \n",
      " )                                                                                                \n",
      "                                                                                                  \n",
      " block_13_pad (ZeroPadding2  (None, 15, 15, 576)          0         ['block_13_expand_relu[0][0]']\n",
      " D)                                                                                               \n",
      "                                                                                                  \n",
      " block_13_depthwise (Depthw  (None, 7, 7, 576)            5184      ['block_13_pad[0][0]']        \n",
      " iseConv2D)                                                                                       \n",
      "                                                                                                  \n",
      " block_13_depthwise_BN (Bat  (None, 7, 7, 576)            2304      ['block_13_depthwise[0][0]']  \n",
      " chNormalization)                                                                                 \n",
      "                                                                                                  \n",
      " block_13_depthwise_relu (R  (None, 7, 7, 576)            0         ['block_13_depthwise_BN[0][0]'\n",
      " eLU)                                                               ]                             \n",
      "                                                                                                  \n",
      " block_13_project (Conv2D)   (None, 7, 7, 160)            92160     ['block_13_depthwise_relu[0][0\n",
      "                                                                    ]']                           \n",
      "                                                                                                  \n",
      " block_13_project_BN (Batch  (None, 7, 7, 160)            640       ['block_13_project[0][0]']    \n",
      " Normalization)                                                                                   \n",
      "                                                                                                  \n",
      " block_14_expand (Conv2D)    (None, 7, 7, 960)            153600    ['block_13_project_BN[0][0]'] \n",
      "                                                                                                  \n",
      " block_14_expand_BN (BatchN  (None, 7, 7, 960)            3840      ['block_14_expand[0][0]']     \n",
      " ormalization)                                                                                    \n",
      "                                                                                                  \n",
      " block_14_expand_relu (ReLU  (None, 7, 7, 960)            0         ['block_14_expand_BN[0][0]']  \n",
      " )                                                                                                \n",
      "                                                                                                  \n",
      " block_14_depthwise (Depthw  (None, 7, 7, 960)            8640      ['block_14_expand_relu[0][0]']\n",
      " iseConv2D)                                                                                       \n",
      "                                                                                                  \n",
      " block_14_depthwise_BN (Bat  (None, 7, 7, 960)            3840      ['block_14_depthwise[0][0]']  \n",
      " chNormalization)                                                                                 \n",
      "                                                                                                  \n",
      " block_14_depthwise_relu (R  (None, 7, 7, 960)            0         ['block_14_depthwise_BN[0][0]'\n",
      " eLU)                                                               ]                             \n",
      "                                                                                                  \n",
      " block_14_project (Conv2D)   (None, 7, 7, 160)            153600    ['block_14_depthwise_relu[0][0\n",
      "                                                                    ]']                           \n",
      "                                                                                                  \n",
      " block_14_project_BN (Batch  (None, 7, 7, 160)            640       ['block_14_project[0][0]']    \n",
      " Normalization)                                                                                   \n",
      "                                                                                                  \n",
      " block_14_add (Add)          (None, 7, 7, 160)            0         ['block_13_project_BN[0][0]', \n",
      "                                                                     'block_14_project_BN[0][0]'] \n",
      "                                                                                                  \n",
      " block_15_expand (Conv2D)    (None, 7, 7, 960)            153600    ['block_14_add[0][0]']        \n",
      "                                                                                                  \n",
      " block_15_expand_BN (BatchN  (None, 7, 7, 960)            3840      ['block_15_expand[0][0]']     \n",
      " ormalization)                                                                                    \n",
      "                                                                                                  \n",
      " block_15_expand_relu (ReLU  (None, 7, 7, 960)            0         ['block_15_expand_BN[0][0]']  \n",
      " )                                                                                                \n",
      "                                                                                                  \n",
      " block_15_depthwise (Depthw  (None, 7, 7, 960)            8640      ['block_15_expand_relu[0][0]']\n",
      " iseConv2D)                                                                                       \n",
      "                                                                                                  \n",
      " block_15_depthwise_BN (Bat  (None, 7, 7, 960)            3840      ['block_15_depthwise[0][0]']  \n",
      " chNormalization)                                                                                 \n",
      "                                                                                                  \n",
      " block_15_depthwise_relu (R  (None, 7, 7, 960)            0         ['block_15_depthwise_BN[0][0]'\n",
      " eLU)                                                               ]                             \n",
      "                                                                                                  \n",
      " block_15_project (Conv2D)   (None, 7, 7, 160)            153600    ['block_15_depthwise_relu[0][0\n",
      "                                                                    ]']                           \n",
      "                                                                                                  \n",
      " block_15_project_BN (Batch  (None, 7, 7, 160)            640       ['block_15_project[0][0]']    \n",
      " Normalization)                                                                                   \n",
      "                                                                                                  \n",
      " block_15_add (Add)          (None, 7, 7, 160)            0         ['block_14_add[0][0]',        \n",
      "                                                                     'block_15_project_BN[0][0]'] \n",
      "                                                                                                  \n",
      " block_16_expand (Conv2D)    (None, 7, 7, 960)            153600    ['block_15_add[0][0]']        \n",
      "                                                                                                  \n",
      " block_16_expand_BN (BatchN  (None, 7, 7, 960)            3840      ['block_16_expand[0][0]']     \n",
      " ormalization)                                                                                    \n",
      "                                                                                                  \n",
      " block_16_expand_relu (ReLU  (None, 7, 7, 960)            0         ['block_16_expand_BN[0][0]']  \n",
      " )                                                                                                \n",
      "                                                                                                  \n",
      " block_16_depthwise (Depthw  (None, 7, 7, 960)            8640      ['block_16_expand_relu[0][0]']\n",
      " iseConv2D)                                                                                       \n",
      "                                                                                                  \n",
      " block_16_depthwise_BN (Bat  (None, 7, 7, 960)            3840      ['block_16_depthwise[0][0]']  \n",
      " chNormalization)                                                                                 \n",
      "                                                                                                  \n",
      " block_16_depthwise_relu (R  (None, 7, 7, 960)            0         ['block_16_depthwise_BN[0][0]'\n",
      " eLU)                                                               ]                             \n",
      "                                                                                                  \n",
      " block_16_project (Conv2D)   (None, 7, 7, 320)            307200    ['block_16_depthwise_relu[0][0\n",
      "                                                                    ]']                           \n",
      "                                                                                                  \n",
      " block_16_project_BN (Batch  (None, 7, 7, 320)            1280      ['block_16_project[0][0]']    \n",
      " Normalization)                                                                                   \n",
      "                                                                                                  \n",
      " Conv_1 (Conv2D)             (None, 7, 7, 1280)           409600    ['block_16_project_BN[0][0]'] \n",
      "                                                                                                  \n",
      " Conv_1_bn (BatchNormalizat  (None, 7, 7, 1280)           5120      ['Conv_1[0][0]']              \n",
      " ion)                                                                                             \n",
      "                                                                                                  \n",
      " out_relu (ReLU)             (None, 7, 7, 1280)           0         ['Conv_1_bn[0][0]']           \n",
      "                                                                                                  \n",
      " global_average_pooling2d (  (None, 1280)                 0         ['out_relu[0][0]']            \n",
      " GlobalAveragePooling2D)                                                                          \n",
      "                                                                                                  \n",
      " predictions (Dense)         (None, 1000)                 1281000   ['global_average_pooling2d[0][\n",
      "                                                                    0]']                          \n",
      "                                                                                                  \n",
      "==================================================================================================\n",
      "Total params: 3538984 (13.50 MB)\n",
      "Trainable params: 3504872 (13.37 MB)\n",
      "Non-trainable params: 34112 (133.25 KB)\n",
      "__________________________________________________________________________________________________\n"
     ]
    }
   ],
   "source": [
    "model.summary()"
   ]
  },
  {
   "cell_type": "code",
   "execution_count": 21,
   "metadata": {
    "executionInfo": {
     "elapsed": 6,
     "status": "ok",
     "timestamp": 1704258580901,
     "user": {
      "displayName": "girish vesangi",
      "userId": "11780172303041565246"
     },
     "user_tz": -330
    },
    "id": "W3CRoHItseC6"
   },
   "outputs": [],
   "source": [
    "base_input=model.layers[0].input\n"
   ]
  },
  {
   "cell_type": "code",
   "execution_count": 22,
   "metadata": {
    "executionInfo": {
     "elapsed": 795,
     "status": "ok",
     "timestamp": 1704258583244,
     "user": {
      "displayName": "girish vesangi",
      "userId": "11780172303041565246"
     },
     "user_tz": -330
    },
    "id": "klxCiDy_shmD"
   },
   "outputs": [],
   "source": [
    "base_output=model.layers[-2].output"
   ]
  },
  {
   "cell_type": "code",
   "execution_count": 23,
   "metadata": {
    "colab": {
     "base_uri": "https://localhost:8080/"
    },
    "executionInfo": {
     "elapsed": 8,
     "status": "ok",
     "timestamp": 1704258584676,
     "user": {
      "displayName": "girish vesangi",
      "userId": "11780172303041565246"
     },
     "user_tz": -330
    },
    "id": "qE6YFSEsslIC",
    "outputId": "55fba565-0604-41dc-8707-098fa66e3b7f"
   },
   "outputs": [
    {
     "data": {
      "text/plain": [
       "<KerasTensor: shape=(None, 1280) dtype=float32 (created by layer 'global_average_pooling2d')>"
      ]
     },
     "execution_count": 23,
     "metadata": {},
     "output_type": "execute_result"
    }
   ],
   "source": [
    "base_output"
   ]
  },
  {
   "cell_type": "code",
   "execution_count": 24,
   "metadata": {
    "executionInfo": {
     "elapsed": 741,
     "status": "ok",
     "timestamp": 1704258587733,
     "user": {
      "displayName": "girish vesangi",
      "userId": "11780172303041565246"
     },
     "user_tz": -330
    },
    "id": "fkSpN4GKsrBf"
   },
   "outputs": [],
   "source": [
    "final_output=layers.Dense(128)(base_output) #adding new layer after global pooling layer\n",
    "final_output=layers.Activation('relu')(final_output)\n",
    "final_output=layers.Dense(64)(final_output)\n",
    "final_output=layers.Activation('relu')(final_output)\n",
    "final_output=layers.Dense(7,activation='softmax')(final_output)# 7=number of classes"
   ]
  },
  {
   "cell_type": "code",
   "execution_count": 25,
   "metadata": {
    "colab": {
     "base_uri": "https://localhost:8080/"
    },
    "executionInfo": {
     "elapsed": 7,
     "status": "ok",
     "timestamp": 1704258589406,
     "user": {
      "displayName": "girish vesangi",
      "userId": "11780172303041565246"
     },
     "user_tz": -330
    },
    "id": "il3Q3qvksusI",
    "outputId": "370642d7-fb50-4774-b067-ee2a7c1cce41"
   },
   "outputs": [
    {
     "data": {
      "text/plain": [
       "<KerasTensor: shape=(None, 7) dtype=float32 (created by layer 'dense_2')>"
      ]
     },
     "execution_count": 25,
     "metadata": {},
     "output_type": "execute_result"
    }
   ],
   "source": [
    "final_output"
   ]
  },
  {
   "cell_type": "code",
   "execution_count": 26,
   "metadata": {
    "executionInfo": {
     "elapsed": 5,
     "status": "ok",
     "timestamp": 1704258591267,
     "user": {
      "displayName": "girish vesangi",
      "userId": "11780172303041565246"
     },
     "user_tz": -330
    },
    "id": "sB_-Kfo_sxOQ"
   },
   "outputs": [],
   "source": [
    "new_model = keras.Model(inputs = base_input , outputs=final_output)"
   ]
  },
  {
   "cell_type": "code",
   "execution_count": 27,
   "metadata": {
    "colab": {
     "base_uri": "https://localhost:8080/"
    },
    "executionInfo": {
     "elapsed": 3231,
     "status": "ok",
     "timestamp": 1704258596039,
     "user": {
      "displayName": "girish vesangi",
      "userId": "11780172303041565246"
     },
     "user_tz": -330
    },
    "id": "Xhqoa88gs1rP",
    "outputId": "830626fb-b740-4f90-8e8c-900253c18a21"
   },
   "outputs": [
    {
     "name": "stdout",
     "output_type": "stream",
     "text": [
      "Model: \"model\"\n",
      "__________________________________________________________________________________________________\n",
      " Layer (type)                Output Shape                 Param #   Connected to                  \n",
      "==================================================================================================\n",
      " input_1 (InputLayer)        [(None, 224, 224, 3)]        0         []                            \n",
      "                                                                                                  \n",
      " Conv1 (Conv2D)              (None, 112, 112, 32)         864       ['input_1[0][0]']             \n",
      "                                                                                                  \n",
      " bn_Conv1 (BatchNormalizati  (None, 112, 112, 32)         128       ['Conv1[0][0]']               \n",
      " on)                                                                                              \n",
      "                                                                                                  \n",
      " Conv1_relu (ReLU)           (None, 112, 112, 32)         0         ['bn_Conv1[0][0]']            \n",
      "                                                                                                  \n",
      " expanded_conv_depthwise (D  (None, 112, 112, 32)         288       ['Conv1_relu[0][0]']          \n",
      " epthwiseConv2D)                                                                                  \n",
      "                                                                                                  \n",
      " expanded_conv_depthwise_BN  (None, 112, 112, 32)         128       ['expanded_conv_depthwise[0][0\n",
      "  (BatchNormalization)                                              ]']                           \n",
      "                                                                                                  \n",
      " expanded_conv_depthwise_re  (None, 112, 112, 32)         0         ['expanded_conv_depthwise_BN[0\n",
      " lu (ReLU)                                                          ][0]']                        \n",
      "                                                                                                  \n",
      " expanded_conv_project (Con  (None, 112, 112, 16)         512       ['expanded_conv_depthwise_relu\n",
      " v2D)                                                               [0][0]']                      \n",
      "                                                                                                  \n",
      " expanded_conv_project_BN (  (None, 112, 112, 16)         64        ['expanded_conv_project[0][0]'\n",
      " BatchNormalization)                                                ]                             \n",
      "                                                                                                  \n",
      " block_1_expand (Conv2D)     (None, 112, 112, 96)         1536      ['expanded_conv_project_BN[0][\n",
      "                                                                    0]']                          \n",
      "                                                                                                  \n",
      " block_1_expand_BN (BatchNo  (None, 112, 112, 96)         384       ['block_1_expand[0][0]']      \n",
      " rmalization)                                                                                     \n",
      "                                                                                                  \n",
      " block_1_expand_relu (ReLU)  (None, 112, 112, 96)         0         ['block_1_expand_BN[0][0]']   \n",
      "                                                                                                  \n",
      " block_1_pad (ZeroPadding2D  (None, 113, 113, 96)         0         ['block_1_expand_relu[0][0]'] \n",
      " )                                                                                                \n",
      "                                                                                                  \n",
      " block_1_depthwise (Depthwi  (None, 56, 56, 96)           864       ['block_1_pad[0][0]']         \n",
      " seConv2D)                                                                                        \n",
      "                                                                                                  \n",
      " block_1_depthwise_BN (Batc  (None, 56, 56, 96)           384       ['block_1_depthwise[0][0]']   \n",
      " hNormalization)                                                                                  \n",
      "                                                                                                  \n",
      " block_1_depthwise_relu (Re  (None, 56, 56, 96)           0         ['block_1_depthwise_BN[0][0]']\n",
      " LU)                                                                                              \n",
      "                                                                                                  \n",
      " block_1_project (Conv2D)    (None, 56, 56, 24)           2304      ['block_1_depthwise_relu[0][0]\n",
      "                                                                    ']                            \n",
      "                                                                                                  \n",
      " block_1_project_BN (BatchN  (None, 56, 56, 24)           96        ['block_1_project[0][0]']     \n",
      " ormalization)                                                                                    \n",
      "                                                                                                  \n",
      " block_2_expand (Conv2D)     (None, 56, 56, 144)          3456      ['block_1_project_BN[0][0]']  \n",
      "                                                                                                  \n",
      " block_2_expand_BN (BatchNo  (None, 56, 56, 144)          576       ['block_2_expand[0][0]']      \n",
      " rmalization)                                                                                     \n",
      "                                                                                                  \n",
      " block_2_expand_relu (ReLU)  (None, 56, 56, 144)          0         ['block_2_expand_BN[0][0]']   \n",
      "                                                                                                  \n",
      " block_2_depthwise (Depthwi  (None, 56, 56, 144)          1296      ['block_2_expand_relu[0][0]'] \n",
      " seConv2D)                                                                                        \n",
      "                                                                                                  \n",
      " block_2_depthwise_BN (Batc  (None, 56, 56, 144)          576       ['block_2_depthwise[0][0]']   \n",
      " hNormalization)                                                                                  \n",
      "                                                                                                  \n",
      " block_2_depthwise_relu (Re  (None, 56, 56, 144)          0         ['block_2_depthwise_BN[0][0]']\n",
      " LU)                                                                                              \n",
      "                                                                                                  \n",
      " block_2_project (Conv2D)    (None, 56, 56, 24)           3456      ['block_2_depthwise_relu[0][0]\n",
      "                                                                    ']                            \n",
      "                                                                                                  \n",
      " block_2_project_BN (BatchN  (None, 56, 56, 24)           96        ['block_2_project[0][0]']     \n",
      " ormalization)                                                                                    \n",
      "                                                                                                  \n",
      " block_2_add (Add)           (None, 56, 56, 24)           0         ['block_1_project_BN[0][0]',  \n",
      "                                                                     'block_2_project_BN[0][0]']  \n",
      "                                                                                                  \n",
      " block_3_expand (Conv2D)     (None, 56, 56, 144)          3456      ['block_2_add[0][0]']         \n",
      "                                                                                                  \n",
      " block_3_expand_BN (BatchNo  (None, 56, 56, 144)          576       ['block_3_expand[0][0]']      \n",
      " rmalization)                                                                                     \n",
      "                                                                                                  \n",
      " block_3_expand_relu (ReLU)  (None, 56, 56, 144)          0         ['block_3_expand_BN[0][0]']   \n",
      "                                                                                                  \n",
      " block_3_pad (ZeroPadding2D  (None, 57, 57, 144)          0         ['block_3_expand_relu[0][0]'] \n",
      " )                                                                                                \n",
      "                                                                                                  \n",
      " block_3_depthwise (Depthwi  (None, 28, 28, 144)          1296      ['block_3_pad[0][0]']         \n",
      " seConv2D)                                                                                        \n",
      "                                                                                                  \n",
      " block_3_depthwise_BN (Batc  (None, 28, 28, 144)          576       ['block_3_depthwise[0][0]']   \n",
      " hNormalization)                                                                                  \n",
      "                                                                                                  \n",
      " block_3_depthwise_relu (Re  (None, 28, 28, 144)          0         ['block_3_depthwise_BN[0][0]']\n",
      " LU)                                                                                              \n",
      "                                                                                                  \n",
      " block_3_project (Conv2D)    (None, 28, 28, 32)           4608      ['block_3_depthwise_relu[0][0]\n",
      "                                                                    ']                            \n",
      "                                                                                                  \n",
      " block_3_project_BN (BatchN  (None, 28, 28, 32)           128       ['block_3_project[0][0]']     \n",
      " ormalization)                                                                                    \n",
      "                                                                                                  \n",
      " block_4_expand (Conv2D)     (None, 28, 28, 192)          6144      ['block_3_project_BN[0][0]']  \n",
      "                                                                                                  \n",
      " block_4_expand_BN (BatchNo  (None, 28, 28, 192)          768       ['block_4_expand[0][0]']      \n",
      " rmalization)                                                                                     \n",
      "                                                                                                  \n",
      " block_4_expand_relu (ReLU)  (None, 28, 28, 192)          0         ['block_4_expand_BN[0][0]']   \n",
      "                                                                                                  \n",
      " block_4_depthwise (Depthwi  (None, 28, 28, 192)          1728      ['block_4_expand_relu[0][0]'] \n",
      " seConv2D)                                                                                        \n",
      "                                                                                                  \n",
      " block_4_depthwise_BN (Batc  (None, 28, 28, 192)          768       ['block_4_depthwise[0][0]']   \n",
      " hNormalization)                                                                                  \n",
      "                                                                                                  \n",
      " block_4_depthwise_relu (Re  (None, 28, 28, 192)          0         ['block_4_depthwise_BN[0][0]']\n",
      " LU)                                                                                              \n",
      "                                                                                                  \n",
      " block_4_project (Conv2D)    (None, 28, 28, 32)           6144      ['block_4_depthwise_relu[0][0]\n",
      "                                                                    ']                            \n",
      "                                                                                                  \n",
      " block_4_project_BN (BatchN  (None, 28, 28, 32)           128       ['block_4_project[0][0]']     \n",
      " ormalization)                                                                                    \n",
      "                                                                                                  \n",
      " block_4_add (Add)           (None, 28, 28, 32)           0         ['block_3_project_BN[0][0]',  \n",
      "                                                                     'block_4_project_BN[0][0]']  \n",
      "                                                                                                  \n",
      " block_5_expand (Conv2D)     (None, 28, 28, 192)          6144      ['block_4_add[0][0]']         \n",
      "                                                                                                  \n",
      " block_5_expand_BN (BatchNo  (None, 28, 28, 192)          768       ['block_5_expand[0][0]']      \n",
      " rmalization)                                                                                     \n",
      "                                                                                                  \n",
      " block_5_expand_relu (ReLU)  (None, 28, 28, 192)          0         ['block_5_expand_BN[0][0]']   \n",
      "                                                                                                  \n",
      " block_5_depthwise (Depthwi  (None, 28, 28, 192)          1728      ['block_5_expand_relu[0][0]'] \n",
      " seConv2D)                                                                                        \n",
      "                                                                                                  \n",
      " block_5_depthwise_BN (Batc  (None, 28, 28, 192)          768       ['block_5_depthwise[0][0]']   \n",
      " hNormalization)                                                                                  \n",
      "                                                                                                  \n",
      " block_5_depthwise_relu (Re  (None, 28, 28, 192)          0         ['block_5_depthwise_BN[0][0]']\n",
      " LU)                                                                                              \n",
      "                                                                                                  \n",
      " block_5_project (Conv2D)    (None, 28, 28, 32)           6144      ['block_5_depthwise_relu[0][0]\n",
      "                                                                    ']                            \n",
      "                                                                                                  \n",
      " block_5_project_BN (BatchN  (None, 28, 28, 32)           128       ['block_5_project[0][0]']     \n",
      " ormalization)                                                                                    \n",
      "                                                                                                  \n",
      " block_5_add (Add)           (None, 28, 28, 32)           0         ['block_4_add[0][0]',         \n",
      "                                                                     'block_5_project_BN[0][0]']  \n",
      "                                                                                                  \n",
      " block_6_expand (Conv2D)     (None, 28, 28, 192)          6144      ['block_5_add[0][0]']         \n",
      "                                                                                                  \n",
      " block_6_expand_BN (BatchNo  (None, 28, 28, 192)          768       ['block_6_expand[0][0]']      \n",
      " rmalization)                                                                                     \n",
      "                                                                                                  \n",
      " block_6_expand_relu (ReLU)  (None, 28, 28, 192)          0         ['block_6_expand_BN[0][0]']   \n",
      "                                                                                                  \n",
      " block_6_pad (ZeroPadding2D  (None, 29, 29, 192)          0         ['block_6_expand_relu[0][0]'] \n",
      " )                                                                                                \n",
      "                                                                                                  \n",
      " block_6_depthwise (Depthwi  (None, 14, 14, 192)          1728      ['block_6_pad[0][0]']         \n",
      " seConv2D)                                                                                        \n",
      "                                                                                                  \n",
      " block_6_depthwise_BN (Batc  (None, 14, 14, 192)          768       ['block_6_depthwise[0][0]']   \n",
      " hNormalization)                                                                                  \n",
      "                                                                                                  \n",
      " block_6_depthwise_relu (Re  (None, 14, 14, 192)          0         ['block_6_depthwise_BN[0][0]']\n",
      " LU)                                                                                              \n",
      "                                                                                                  \n",
      " block_6_project (Conv2D)    (None, 14, 14, 64)           12288     ['block_6_depthwise_relu[0][0]\n",
      "                                                                    ']                            \n",
      "                                                                                                  \n",
      " block_6_project_BN (BatchN  (None, 14, 14, 64)           256       ['block_6_project[0][0]']     \n",
      " ormalization)                                                                                    \n",
      "                                                                                                  \n",
      " block_7_expand (Conv2D)     (None, 14, 14, 384)          24576     ['block_6_project_BN[0][0]']  \n",
      "                                                                                                  \n",
      " block_7_expand_BN (BatchNo  (None, 14, 14, 384)          1536      ['block_7_expand[0][0]']      \n",
      " rmalization)                                                                                     \n",
      "                                                                                                  \n",
      " block_7_expand_relu (ReLU)  (None, 14, 14, 384)          0         ['block_7_expand_BN[0][0]']   \n",
      "                                                                                                  \n",
      " block_7_depthwise (Depthwi  (None, 14, 14, 384)          3456      ['block_7_expand_relu[0][0]'] \n",
      " seConv2D)                                                                                        \n",
      "                                                                                                  \n",
      " block_7_depthwise_BN (Batc  (None, 14, 14, 384)          1536      ['block_7_depthwise[0][0]']   \n",
      " hNormalization)                                                                                  \n",
      "                                                                                                  \n",
      " block_7_depthwise_relu (Re  (None, 14, 14, 384)          0         ['block_7_depthwise_BN[0][0]']\n",
      " LU)                                                                                              \n",
      "                                                                                                  \n",
      " block_7_project (Conv2D)    (None, 14, 14, 64)           24576     ['block_7_depthwise_relu[0][0]\n",
      "                                                                    ']                            \n",
      "                                                                                                  \n",
      " block_7_project_BN (BatchN  (None, 14, 14, 64)           256       ['block_7_project[0][0]']     \n",
      " ormalization)                                                                                    \n",
      "                                                                                                  \n",
      " block_7_add (Add)           (None, 14, 14, 64)           0         ['block_6_project_BN[0][0]',  \n",
      "                                                                     'block_7_project_BN[0][0]']  \n",
      "                                                                                                  \n",
      " block_8_expand (Conv2D)     (None, 14, 14, 384)          24576     ['block_7_add[0][0]']         \n",
      "                                                                                                  \n",
      " block_8_expand_BN (BatchNo  (None, 14, 14, 384)          1536      ['block_8_expand[0][0]']      \n",
      " rmalization)                                                                                     \n",
      "                                                                                                  \n",
      " block_8_expand_relu (ReLU)  (None, 14, 14, 384)          0         ['block_8_expand_BN[0][0]']   \n",
      "                                                                                                  \n",
      " block_8_depthwise (Depthwi  (None, 14, 14, 384)          3456      ['block_8_expand_relu[0][0]'] \n",
      " seConv2D)                                                                                        \n",
      "                                                                                                  \n",
      " block_8_depthwise_BN (Batc  (None, 14, 14, 384)          1536      ['block_8_depthwise[0][0]']   \n",
      " hNormalization)                                                                                  \n",
      "                                                                                                  \n",
      " block_8_depthwise_relu (Re  (None, 14, 14, 384)          0         ['block_8_depthwise_BN[0][0]']\n",
      " LU)                                                                                              \n",
      "                                                                                                  \n",
      " block_8_project (Conv2D)    (None, 14, 14, 64)           24576     ['block_8_depthwise_relu[0][0]\n",
      "                                                                    ']                            \n",
      "                                                                                                  \n",
      " block_8_project_BN (BatchN  (None, 14, 14, 64)           256       ['block_8_project[0][0]']     \n",
      " ormalization)                                                                                    \n",
      "                                                                                                  \n",
      " block_8_add (Add)           (None, 14, 14, 64)           0         ['block_7_add[0][0]',         \n",
      "                                                                     'block_8_project_BN[0][0]']  \n",
      "                                                                                                  \n",
      " block_9_expand (Conv2D)     (None, 14, 14, 384)          24576     ['block_8_add[0][0]']         \n",
      "                                                                                                  \n",
      " block_9_expand_BN (BatchNo  (None, 14, 14, 384)          1536      ['block_9_expand[0][0]']      \n",
      " rmalization)                                                                                     \n",
      "                                                                                                  \n",
      " block_9_expand_relu (ReLU)  (None, 14, 14, 384)          0         ['block_9_expand_BN[0][0]']   \n",
      "                                                                                                  \n",
      " block_9_depthwise (Depthwi  (None, 14, 14, 384)          3456      ['block_9_expand_relu[0][0]'] \n",
      " seConv2D)                                                                                        \n",
      "                                                                                                  \n",
      " block_9_depthwise_BN (Batc  (None, 14, 14, 384)          1536      ['block_9_depthwise[0][0]']   \n",
      " hNormalization)                                                                                  \n",
      "                                                                                                  \n",
      " block_9_depthwise_relu (Re  (None, 14, 14, 384)          0         ['block_9_depthwise_BN[0][0]']\n",
      " LU)                                                                                              \n",
      "                                                                                                  \n",
      " block_9_project (Conv2D)    (None, 14, 14, 64)           24576     ['block_9_depthwise_relu[0][0]\n",
      "                                                                    ']                            \n",
      "                                                                                                  \n",
      " block_9_project_BN (BatchN  (None, 14, 14, 64)           256       ['block_9_project[0][0]']     \n",
      " ormalization)                                                                                    \n",
      "                                                                                                  \n",
      " block_9_add (Add)           (None, 14, 14, 64)           0         ['block_8_add[0][0]',         \n",
      "                                                                     'block_9_project_BN[0][0]']  \n",
      "                                                                                                  \n",
      " block_10_expand (Conv2D)    (None, 14, 14, 384)          24576     ['block_9_add[0][0]']         \n",
      "                                                                                                  \n",
      " block_10_expand_BN (BatchN  (None, 14, 14, 384)          1536      ['block_10_expand[0][0]']     \n",
      " ormalization)                                                                                    \n",
      "                                                                                                  \n",
      " block_10_expand_relu (ReLU  (None, 14, 14, 384)          0         ['block_10_expand_BN[0][0]']  \n",
      " )                                                                                                \n",
      "                                                                                                  \n",
      " block_10_depthwise (Depthw  (None, 14, 14, 384)          3456      ['block_10_expand_relu[0][0]']\n",
      " iseConv2D)                                                                                       \n",
      "                                                                                                  \n",
      " block_10_depthwise_BN (Bat  (None, 14, 14, 384)          1536      ['block_10_depthwise[0][0]']  \n",
      " chNormalization)                                                                                 \n",
      "                                                                                                  \n",
      " block_10_depthwise_relu (R  (None, 14, 14, 384)          0         ['block_10_depthwise_BN[0][0]'\n",
      " eLU)                                                               ]                             \n",
      "                                                                                                  \n",
      " block_10_project (Conv2D)   (None, 14, 14, 96)           36864     ['block_10_depthwise_relu[0][0\n",
      "                                                                    ]']                           \n",
      "                                                                                                  \n",
      " block_10_project_BN (Batch  (None, 14, 14, 96)           384       ['block_10_project[0][0]']    \n",
      " Normalization)                                                                                   \n",
      "                                                                                                  \n",
      " block_11_expand (Conv2D)    (None, 14, 14, 576)          55296     ['block_10_project_BN[0][0]'] \n",
      "                                                                                                  \n",
      " block_11_expand_BN (BatchN  (None, 14, 14, 576)          2304      ['block_11_expand[0][0]']     \n",
      " ormalization)                                                                                    \n",
      "                                                                                                  \n",
      " block_11_expand_relu (ReLU  (None, 14, 14, 576)          0         ['block_11_expand_BN[0][0]']  \n",
      " )                                                                                                \n",
      "                                                                                                  \n",
      " block_11_depthwise (Depthw  (None, 14, 14, 576)          5184      ['block_11_expand_relu[0][0]']\n",
      " iseConv2D)                                                                                       \n",
      "                                                                                                  \n",
      " block_11_depthwise_BN (Bat  (None, 14, 14, 576)          2304      ['block_11_depthwise[0][0]']  \n",
      " chNormalization)                                                                                 \n",
      "                                                                                                  \n",
      " block_11_depthwise_relu (R  (None, 14, 14, 576)          0         ['block_11_depthwise_BN[0][0]'\n",
      " eLU)                                                               ]                             \n",
      "                                                                                                  \n",
      " block_11_project (Conv2D)   (None, 14, 14, 96)           55296     ['block_11_depthwise_relu[0][0\n",
      "                                                                    ]']                           \n",
      "                                                                                                  \n",
      " block_11_project_BN (Batch  (None, 14, 14, 96)           384       ['block_11_project[0][0]']    \n",
      " Normalization)                                                                                   \n",
      "                                                                                                  \n",
      " block_11_add (Add)          (None, 14, 14, 96)           0         ['block_10_project_BN[0][0]', \n",
      "                                                                     'block_11_project_BN[0][0]'] \n",
      "                                                                                                  \n",
      " block_12_expand (Conv2D)    (None, 14, 14, 576)          55296     ['block_11_add[0][0]']        \n",
      "                                                                                                  \n",
      " block_12_expand_BN (BatchN  (None, 14, 14, 576)          2304      ['block_12_expand[0][0]']     \n",
      " ormalization)                                                                                    \n",
      "                                                                                                  \n",
      " block_12_expand_relu (ReLU  (None, 14, 14, 576)          0         ['block_12_expand_BN[0][0]']  \n",
      " )                                                                                                \n",
      "                                                                                                  \n",
      " block_12_depthwise (Depthw  (None, 14, 14, 576)          5184      ['block_12_expand_relu[0][0]']\n",
      " iseConv2D)                                                                                       \n",
      "                                                                                                  \n",
      " block_12_depthwise_BN (Bat  (None, 14, 14, 576)          2304      ['block_12_depthwise[0][0]']  \n",
      " chNormalization)                                                                                 \n",
      "                                                                                                  \n",
      " block_12_depthwise_relu (R  (None, 14, 14, 576)          0         ['block_12_depthwise_BN[0][0]'\n",
      " eLU)                                                               ]                             \n",
      "                                                                                                  \n",
      " block_12_project (Conv2D)   (None, 14, 14, 96)           55296     ['block_12_depthwise_relu[0][0\n",
      "                                                                    ]']                           \n",
      "                                                                                                  \n",
      " block_12_project_BN (Batch  (None, 14, 14, 96)           384       ['block_12_project[0][0]']    \n",
      " Normalization)                                                                                   \n",
      "                                                                                                  \n",
      " block_12_add (Add)          (None, 14, 14, 96)           0         ['block_11_add[0][0]',        \n",
      "                                                                     'block_12_project_BN[0][0]'] \n",
      "                                                                                                  \n",
      " block_13_expand (Conv2D)    (None, 14, 14, 576)          55296     ['block_12_add[0][0]']        \n",
      "                                                                                                  \n",
      " block_13_expand_BN (BatchN  (None, 14, 14, 576)          2304      ['block_13_expand[0][0]']     \n",
      " ormalization)                                                                                    \n",
      "                                                                                                  \n",
      " block_13_expand_relu (ReLU  (None, 14, 14, 576)          0         ['block_13_expand_BN[0][0]']  \n",
      " )                                                                                                \n",
      "                                                                                                  \n",
      " block_13_pad (ZeroPadding2  (None, 15, 15, 576)          0         ['block_13_expand_relu[0][0]']\n",
      " D)                                                                                               \n",
      "                                                                                                  \n",
      " block_13_depthwise (Depthw  (None, 7, 7, 576)            5184      ['block_13_pad[0][0]']        \n",
      " iseConv2D)                                                                                       \n",
      "                                                                                                  \n",
      " block_13_depthwise_BN (Bat  (None, 7, 7, 576)            2304      ['block_13_depthwise[0][0]']  \n",
      " chNormalization)                                                                                 \n",
      "                                                                                                  \n",
      " block_13_depthwise_relu (R  (None, 7, 7, 576)            0         ['block_13_depthwise_BN[0][0]'\n",
      " eLU)                                                               ]                             \n",
      "                                                                                                  \n",
      " block_13_project (Conv2D)   (None, 7, 7, 160)            92160     ['block_13_depthwise_relu[0][0\n",
      "                                                                    ]']                           \n",
      "                                                                                                  \n",
      " block_13_project_BN (Batch  (None, 7, 7, 160)            640       ['block_13_project[0][0]']    \n",
      " Normalization)                                                                                   \n",
      "                                                                                                  \n",
      " block_14_expand (Conv2D)    (None, 7, 7, 960)            153600    ['block_13_project_BN[0][0]'] \n",
      "                                                                                                  \n",
      " block_14_expand_BN (BatchN  (None, 7, 7, 960)            3840      ['block_14_expand[0][0]']     \n",
      " ormalization)                                                                                    \n",
      "                                                                                                  \n",
      " block_14_expand_relu (ReLU  (None, 7, 7, 960)            0         ['block_14_expand_BN[0][0]']  \n",
      " )                                                                                                \n",
      "                                                                                                  \n",
      " block_14_depthwise (Depthw  (None, 7, 7, 960)            8640      ['block_14_expand_relu[0][0]']\n",
      " iseConv2D)                                                                                       \n",
      "                                                                                                  \n",
      " block_14_depthwise_BN (Bat  (None, 7, 7, 960)            3840      ['block_14_depthwise[0][0]']  \n",
      " chNormalization)                                                                                 \n",
      "                                                                                                  \n",
      " block_14_depthwise_relu (R  (None, 7, 7, 960)            0         ['block_14_depthwise_BN[0][0]'\n",
      " eLU)                                                               ]                             \n",
      "                                                                                                  \n",
      " block_14_project (Conv2D)   (None, 7, 7, 160)            153600    ['block_14_depthwise_relu[0][0\n",
      "                                                                    ]']                           \n",
      "                                                                                                  \n",
      " block_14_project_BN (Batch  (None, 7, 7, 160)            640       ['block_14_project[0][0]']    \n",
      " Normalization)                                                                                   \n",
      "                                                                                                  \n",
      " block_14_add (Add)          (None, 7, 7, 160)            0         ['block_13_project_BN[0][0]', \n",
      "                                                                     'block_14_project_BN[0][0]'] \n",
      "                                                                                                  \n",
      " block_15_expand (Conv2D)    (None, 7, 7, 960)            153600    ['block_14_add[0][0]']        \n",
      "                                                                                                  \n",
      " block_15_expand_BN (BatchN  (None, 7, 7, 960)            3840      ['block_15_expand[0][0]']     \n",
      " ormalization)                                                                                    \n",
      "                                                                                                  \n",
      " block_15_expand_relu (ReLU  (None, 7, 7, 960)            0         ['block_15_expand_BN[0][0]']  \n",
      " )                                                                                                \n",
      "                                                                                                  \n",
      " block_15_depthwise (Depthw  (None, 7, 7, 960)            8640      ['block_15_expand_relu[0][0]']\n",
      " iseConv2D)                                                                                       \n",
      "                                                                                                  \n",
      " block_15_depthwise_BN (Bat  (None, 7, 7, 960)            3840      ['block_15_depthwise[0][0]']  \n",
      " chNormalization)                                                                                 \n",
      "                                                                                                  \n",
      " block_15_depthwise_relu (R  (None, 7, 7, 960)            0         ['block_15_depthwise_BN[0][0]'\n",
      " eLU)                                                               ]                             \n",
      "                                                                                                  \n",
      " block_15_project (Conv2D)   (None, 7, 7, 160)            153600    ['block_15_depthwise_relu[0][0\n",
      "                                                                    ]']                           \n",
      "                                                                                                  \n",
      " block_15_project_BN (Batch  (None, 7, 7, 160)            640       ['block_15_project[0][0]']    \n",
      " Normalization)                                                                                   \n",
      "                                                                                                  \n",
      " block_15_add (Add)          (None, 7, 7, 160)            0         ['block_14_add[0][0]',        \n",
      "                                                                     'block_15_project_BN[0][0]'] \n",
      "                                                                                                  \n",
      " block_16_expand (Conv2D)    (None, 7, 7, 960)            153600    ['block_15_add[0][0]']        \n",
      "                                                                                                  \n",
      " block_16_expand_BN (BatchN  (None, 7, 7, 960)            3840      ['block_16_expand[0][0]']     \n",
      " ormalization)                                                                                    \n",
      "                                                                                                  \n",
      " block_16_expand_relu (ReLU  (None, 7, 7, 960)            0         ['block_16_expand_BN[0][0]']  \n",
      " )                                                                                                \n",
      "                                                                                                  \n",
      " block_16_depthwise (Depthw  (None, 7, 7, 960)            8640      ['block_16_expand_relu[0][0]']\n",
      " iseConv2D)                                                                                       \n",
      "                                                                                                  \n",
      " block_16_depthwise_BN (Bat  (None, 7, 7, 960)            3840      ['block_16_depthwise[0][0]']  \n",
      " chNormalization)                                                                                 \n",
      "                                                                                                  \n",
      " block_16_depthwise_relu (R  (None, 7, 7, 960)            0         ['block_16_depthwise_BN[0][0]'\n",
      " eLU)                                                               ]                             \n",
      "                                                                                                  \n",
      " block_16_project (Conv2D)   (None, 7, 7, 320)            307200    ['block_16_depthwise_relu[0][0\n",
      "                                                                    ]']                           \n",
      "                                                                                                  \n",
      " block_16_project_BN (Batch  (None, 7, 7, 320)            1280      ['block_16_project[0][0]']    \n",
      " Normalization)                                                                                   \n",
      "                                                                                                  \n",
      " Conv_1 (Conv2D)             (None, 7, 7, 1280)           409600    ['block_16_project_BN[0][0]'] \n",
      "                                                                                                  \n",
      " Conv_1_bn (BatchNormalizat  (None, 7, 7, 1280)           5120      ['Conv_1[0][0]']              \n",
      " ion)                                                                                             \n",
      "                                                                                                  \n",
      " out_relu (ReLU)             (None, 7, 7, 1280)           0         ['Conv_1_bn[0][0]']           \n",
      "                                                                                                  \n",
      " global_average_pooling2d (  (None, 1280)                 0         ['out_relu[0][0]']            \n",
      " GlobalAveragePooling2D)                                                                          \n",
      "                                                                                                  \n",
      " dense (Dense)               (None, 128)                  163968    ['global_average_pooling2d[0][\n",
      "                                                                    0]']                          \n",
      "                                                                                                  \n",
      " activation (Activation)     (None, 128)                  0         ['dense[0][0]']               \n",
      "                                                                                                  \n",
      " dense_1 (Dense)             (None, 64)                   8256      ['activation[0][0]']          \n",
      "                                                                                                  \n",
      " activation_1 (Activation)   (None, 64)                   0         ['dense_1[0][0]']             \n",
      "                                                                                                  \n",
      " dense_2 (Dense)             (None, 7)                    455       ['activation_1[0][0]']        \n",
      "                                                                                                  \n",
      "==================================================================================================\n",
      "Total params: 2430663 (9.27 MB)\n",
      "Trainable params: 2396551 (9.14 MB)\n",
      "Non-trainable params: 34112 (133.25 KB)\n",
      "__________________________________________________________________________________________________\n"
     ]
    }
   ],
   "source": [
    "new_model.summary()"
   ]
  },
  {
   "cell_type": "code",
   "execution_count": 28,
   "metadata": {
    "executionInfo": {
     "elapsed": 10,
     "status": "ok",
     "timestamp": 1704258596525,
     "user": {
      "displayName": "girish vesangi",
      "userId": "11780172303041565246"
     },
     "user_tz": -330
    },
    "id": "A0C8v97Vs4vY"
   },
   "outputs": [],
   "source": [
    "new_model.compile(\n",
    "    loss=\"sparse_categorical_crossentropy\",\n",
    "    optimizer = \"adam\",\n",
    "    metrics = [\"accuracy\"]\n",
    ")"
   ]
  },
  {
   "cell_type": "code",
   "execution_count": 29,
   "metadata": {
    "executionInfo": {
     "elapsed": 7,
     "status": "ok",
     "timestamp": 1704258598851,
     "user": {
      "displayName": "girish vesangi",
      "userId": "11780172303041565246"
     },
     "user_tz": -330
    },
    "id": "DCrl58Prs9Lf"
   },
   "outputs": [],
   "source": [
    "y=np.array(y)"
   ]
  },
  {
   "cell_type": "code",
   "execution_count": 30,
   "metadata": {
    "colab": {
     "base_uri": "https://localhost:8080/"
    },
    "executionInfo": {
     "elapsed": 6,
     "status": "ok",
     "timestamp": 1704258600447,
     "user": {
      "displayName": "girish vesangi",
      "userId": "11780172303041565246"
     },
     "user_tz": -330
    },
    "id": "Kd-HGchSs_dP",
    "outputId": "9c6a7ca8-0277-41ab-96ad-27a4476767ac"
   },
   "outputs": [
    {
     "data": {
      "text/plain": [
       "5"
      ]
     },
     "execution_count": 30,
     "metadata": {},
     "output_type": "execute_result"
    }
   ],
   "source": [
    "type(y)\n",
    "y[300]"
   ]
  },
  {
   "cell_type": "code",
   "execution_count": 31,
   "metadata": {
    "colab": {
     "base_uri": "https://localhost:8080/"
    },
    "executionInfo": {
     "elapsed": 218124,
     "status": "ok",
     "timestamp": 1704258824551,
     "user": {
      "displayName": "girish vesangi",
      "userId": "11780172303041565246"
     },
     "user_tz": -330
    },
    "id": "xJhMb6_2tBz5",
    "outputId": "b07ca4f0-3509-4070-ae83-b8fcd9bf61dd"
   },
   "outputs": [
    {
     "name": "stdout",
     "output_type": "stream",
     "text": [
      "Epoch 1/15\n",
      "88/88 [==============================] - 42s 141ms/step - loss: 1.6616 - accuracy: 0.3557\n",
      "Epoch 2/15\n",
      "88/88 [==============================] - 12s 132ms/step - loss: 1.3455 - accuracy: 0.5000\n",
      "Epoch 3/15\n",
      "88/88 [==============================] - 12s 133ms/step - loss: 1.1636 - accuracy: 0.5729\n",
      "Epoch 4/15\n",
      "88/88 [==============================] - 12s 133ms/step - loss: 1.0072 - accuracy: 0.6325\n",
      "Epoch 5/15\n",
      "88/88 [==============================] - 12s 134ms/step - loss: 0.9099 - accuracy: 0.6654\n",
      "Epoch 6/15\n",
      "88/88 [==============================] - 12s 135ms/step - loss: 0.7889 - accuracy: 0.7096\n",
      "Epoch 7/15\n",
      "88/88 [==============================] - 12s 137ms/step - loss: 0.7087 - accuracy: 0.7421\n",
      "Epoch 8/15\n",
      "88/88 [==============================] - 12s 138ms/step - loss: 0.6350 - accuracy: 0.7789\n",
      "Epoch 9/15\n",
      "88/88 [==============================] - 12s 138ms/step - loss: 0.5683 - accuracy: 0.8004\n",
      "Epoch 10/15\n",
      "88/88 [==============================] - 12s 137ms/step - loss: 0.4398 - accuracy: 0.8425\n",
      "Epoch 11/15\n",
      "88/88 [==============================] - 12s 136ms/step - loss: 0.4460 - accuracy: 0.8457\n",
      "Epoch 12/15\n",
      "88/88 [==============================] - 12s 135ms/step - loss: 0.3958 - accuracy: 0.8639\n",
      "Epoch 13/15\n",
      "88/88 [==============================] - 12s 135ms/step - loss: 0.3021 - accuracy: 0.8993\n",
      "Epoch 14/15\n",
      "88/88 [==============================] - 12s 136ms/step - loss: 0.3221 - accuracy: 0.8929\n",
      "Epoch 15/15\n",
      "88/88 [==============================] - 12s 137ms/step - loss: 0.3014 - accuracy: 0.8921\n"
     ]
    },
    {
     "data": {
      "text/plain": [
       "<keras.src.callbacks.History at 0x7dbd9ff3f8b0>"
      ]
     },
     "execution_count": 31,
     "metadata": {},
     "output_type": "execute_result"
    }
   ],
   "source": [
    "new_model.fit(x,y,epochs=15)"
   ]
  },
  {
   "cell_type": "code",
   "execution_count": 32,
   "metadata": {
    "colab": {
     "base_uri": "https://localhost:8080/"
    },
    "executionInfo": {
     "elapsed": 1990,
     "status": "ok",
     "timestamp": 1704258893272,
     "user": {
      "displayName": "girish vesangi",
      "userId": "11780172303041565246"
     },
     "user_tz": -330
    },
    "id": "_QL3xw4NtFck",
    "outputId": "a161beb4-3af3-46b2-8ebe-a1b6c3f56bee"
   },
   "outputs": [
    {
     "name": "stderr",
     "output_type": "stream",
     "text": [
      "/usr/local/lib/python3.10/dist-packages/keras/src/engine/training.py:3079: UserWarning: You are saving your model as an HDF5 file via `model.save()`. This file format is considered legacy. We recommend using instead the native Keras format, e.g. `model.save('my_model.keras')`.\n",
      "  saving_api.save_model(\n"
     ]
    }
   ],
   "source": [
    "new_model.save('/content/drive/MyDrive/emotionsextracted/classification.h5')"
   ]
  },
  {
   "cell_type": "code",
   "execution_count": 18,
   "metadata": {
    "executionInfo": {
     "elapsed": 4955,
     "status": "ok",
     "timestamp": 1704258930089,
     "user": {
      "displayName": "girish vesangi",
      "userId": "11780172303041565246"
     },
     "user_tz": -330
    },
    "id": "yEijMyz-vupb"
   },
   "outputs": [],
   "source": [
    "new_model = tf.keras.models.load_model('C:\\\\Users\\\\ACER\\\\Desktop\\\\new_emotions\\\\classification1.h5')"
   ]
  },
  {
   "cell_type": "code",
   "execution_count": 19,
   "metadata": {
    "executionInfo": {
     "elapsed": 527,
     "status": "ok",
     "timestamp": 1704259051530,
     "user": {
      "displayName": "girish vesangi",
      "userId": "11780172303041565246"
     },
     "user_tz": -330
    },
    "id": "i4v9800ivzKI"
   },
   "outputs": [],
   "source": [
    "frame=cv2.imread(\"C:\\\\Users\\\\ACER\\\\Desktop\\\\new_emotions\\\\download.jpeg\")"
   ]
  },
  {
   "cell_type": "code",
   "execution_count": 20,
   "metadata": {
    "colab": {
     "base_uri": "https://localhost:8080/"
    },
    "executionInfo": {
     "elapsed": 685,
     "status": "ok",
     "timestamp": 1704259063714,
     "user": {
      "displayName": "girish vesangi",
      "userId": "11780172303041565246"
     },
     "user_tz": -330
    },
    "id": "jBrchgn2wVr9",
    "outputId": "132521c4-76e8-4b5f-a081-29401f9210e0"
   },
   "outputs": [
    {
     "data": {
      "text/plain": [
       "(183, 275, 3)"
      ]
     },
     "execution_count": 20,
     "metadata": {},
     "output_type": "execute_result"
    }
   ],
   "source": [
    "frame.shape"
   ]
  },
  {
   "cell_type": "code",
   "execution_count": 21,
   "metadata": {
    "colab": {
     "base_uri": "https://localhost:8080/",
     "height": 412
    },
    "executionInfo": {
     "elapsed": 1477,
     "status": "ok",
     "timestamp": 1704259077174,
     "user": {
      "displayName": "girish vesangi",
      "userId": "11780172303041565246"
     },
     "user_tz": -330
    },
    "id": "iqoKKgOAwYdA",
    "outputId": "839e2def-2e48-483a-ec8b-8c26bbb808ec"
   },
   "outputs": [
    {
     "data": {
      "text/plain": [
       "<matplotlib.image.AxesImage at 0x15b6021e860>"
      ]
     },
     "execution_count": 21,
     "metadata": {},
     "output_type": "execute_result"
    },
    {
     "data": {
      "image/png": "[encoded data removed]",
      "text/plain": [
       "<Figure size 640x480 with 1 Axes>"
      ]
     },
     "metadata": {},
     "output_type": "display_data"
    }
   ],
   "source": [
    "plt.imshow(cv2.cvtColor(frame, cv2.COLOR_BGR2RGB))"
   ]
  },
  {
   "cell_type": "code",
   "execution_count": 24,
   "metadata": {
    "executionInfo": {
     "elapsed": 740,
     "status": "ok",
     "timestamp": 1704259242668,
     "user": {
      "displayName": "girish vesangi",
      "userId": "11780172303041565246"
     },
     "user_tz": -330
    },
    "id": "6_gSs-lqwbrU"
   },
   "outputs": [],
   "source": [
    "faceCascade= cv2.CascadeClassifier(\"C:\\\\Users\\\\ACER\\\\Desktop\\\\new_emotions\\\\haarcascade_frontalface_default.xml\")"
   ]
  },
  {
   "cell_type": "code",
   "execution_count": 25,
   "metadata": {
    "executionInfo": {
     "elapsed": 6,
     "status": "ok",
     "timestamp": 1704259244195,
     "user": {
      "displayName": "girish vesangi",
      "userId": "11780172303041565246"
     },
     "user_tz": -330
    },
    "id": "tB09O9RGwfj8"
   },
   "outputs": [],
   "source": [
    "gray=cv2.cvtColor(frame, cv2.COLOR_BGR2GRAY)"
   ]
  },
  {
   "cell_type": "code",
   "execution_count": 26,
   "metadata": {
    "colab": {
     "base_uri": "https://localhost:8080/"
    },
    "executionInfo": {
     "elapsed": 9,
     "status": "ok",
     "timestamp": 1704259246027,
     "user": {
      "displayName": "girish vesangi",
      "userId": "11780172303041565246"
     },
     "user_tz": -330
    },
    "id": "mk50-DEOwhyT",
    "outputId": "b637bc45-c396-4f9f-c00d-d71874bda328"
   },
   "outputs": [
    {
     "data": {
      "text/plain": [
       "(183, 275)"
      ]
     },
     "execution_count": 26,
     "metadata": {},
     "output_type": "execute_result"
    }
   ],
   "source": [
    "gray.shape"
   ]
  },
  {
   "cell_type": "code",
   "execution_count": 27,
   "metadata": {
    "executionInfo": {
     "elapsed": 786,
     "status": "ok",
     "timestamp": 1704259250379,
     "user": {
      "displayName": "girish vesangi",
      "userId": "11780172303041565246"
     },
     "user_tz": -330
    },
    "id": "uX2ozSoAwkT9"
   },
   "outputs": [],
   "source": [
    "faces =faceCascade.detectMultiScale(gray ,1.1,4)\n",
    "\n",
    "for x,y,w,h in faces:\n",
    "  roi_gray=gray[y:y+h , x:x+w]\n",
    "  roi_color = frame[y:y+h , x:x+w]\n",
    "  cv2.rectangle(frame , (x,y),(x+w , y+h),(255 ,0 ,0),2)\n",
    "  facess= faceCascade.detectMultiScale(roi_gray)\n",
    "  if len(facess)==0:\n",
    "    print(\"Face not detected\")\n",
    "  else:\n",
    "    for(ex,ey,ew,eh) in facess:\n",
    "      face_roi = roi_color[ey:ey+eh , ex:ex+ew]"
   ]
  },
  {
   "cell_type": "code",
   "execution_count": 28,
   "metadata": {
    "colab": {
     "base_uri": "https://localhost:8080/",
     "height": 412
    },
    "executionInfo": {
     "elapsed": 1313,
     "status": "ok",
     "timestamp": 1704259263762,
     "user": {
      "displayName": "girish vesangi",
      "userId": "11780172303041565246"
     },
     "user_tz": -330
    },
    "id": "2u04lRLjwncj",
    "outputId": "c458cdf9-b6dd-44ff-852b-eca10b83e18d"
   },
   "outputs": [
    {
     "data": {
      "text/plain": [
       "<matplotlib.image.AxesImage at 0x15b5e1fa410>"
      ]
     },
     "execution_count": 28,
     "metadata": {},
     "output_type": "execute_result"
    },
    {
     "data": {
      "image/png": "[encoded data removed]",
      "text/plain": [
       "<Figure size 640x480 with 1 Axes>"
      ]
     },
     "metadata": {},
     "output_type": "display_data"
    }
   ],
   "source": [
    "plt.imshow(cv2.cvtColor(frame, cv2.COLOR_BGR2RGB))"
   ]
  },
  {
   "cell_type": "code",
   "execution_count": 29,
   "metadata": {
    "colab": {
     "base_uri": "https://localhost:8080/",
     "height": 447
    },
    "executionInfo": {
     "elapsed": 634,
     "status": "ok",
     "timestamp": 1704259280702,
     "user": {
      "displayName": "girish vesangi",
      "userId": "11780172303041565246"
     },
     "user_tz": -330
    },
    "id": "DVjBZNqSxJSo",
    "outputId": "2b120867-f624-438a-fa3f-e9187a3933ff"
   },
   "outputs": [
    {
     "data": {
      "text/plain": [
       "<matplotlib.image.AxesImage at 0x15b5d978c10>"
      ]
     },
     "execution_count": 29,
     "metadata": {},
     "output_type": "execute_result"
    },
    {
     "data": {
      "image/png": "[encoded data removed]",
      "text/plain": [
       "<Figure size 640x480 with 1 Axes>"
      ]
     },
     "metadata": {},
     "output_type": "display_data"
    }
   ],
   "source": [
    "plt.imshow(cv2.cvtColor(face_roi, cv2.COLOR_BGR2RGB))"
   ]
  },
  {
   "cell_type": "code",
   "execution_count": 30,
   "metadata": {
    "executionInfo": {
     "elapsed": 513,
     "status": "ok",
     "timestamp": 1704259293296,
     "user": {
      "displayName": "girish vesangi",
      "userId": "11780172303041565246"
     },
     "user_tz": -330
    },
    "id": "2FR__IUYxNii"
   },
   "outputs": [],
   "source": [
    "final=cv2.resize(face_roi,(224,224))\n",
    "final=np.expand_dims(final,axis=0)\n",
    "final=final/255.0"
   ]
  },
  {
   "cell_type": "code",
   "execution_count": 31,
   "metadata": {
    "colab": {
     "base_uri": "https://localhost:8080/"
    },
    "executionInfo": {
     "elapsed": 2502,
     "status": "ok",
     "timestamp": 1704259314684,
     "user": {
      "displayName": "girish vesangi",
      "userId": "11780172303041565246"
     },
     "user_tz": -330
    },
    "id": "hm66oz2ExQti",
    "outputId": "a631ba39-00b4-4063-ba12-eaf6ad2e6342"
   },
   "outputs": [
    {
     "name": "stdout",
     "output_type": "stream",
     "text": [
      "1/1 [==============================] - 6s 6s/step\n"
     ]
    }
   ],
   "source": [
    "predictions=new_model.predict(final)"
   ]
  },
  {
   "cell_type": "code",
   "execution_count": 32,
   "metadata": {
    "colab": {
     "base_uri": "https://localhost:8080/"
    },
    "executionInfo": {
     "elapsed": 692,
     "status": "ok",
     "timestamp": 1704259323645,
     "user": {
      "displayName": "girish vesangi",
      "userId": "11780172303041565246"
     },
     "user_tz": -330
    },
    "id": "9I6UVVjbxVal",
    "outputId": "575b91f5-e512-44d2-9997-68c8bd7b195b"
   },
   "outputs": [
    {
     "data": {
      "text/plain": [
       "2"
      ]
     },
     "execution_count": 32,
     "metadata": {},
     "output_type": "execute_result"
    }
   ],
   "source": [
    "np.argmax(predictions)"
   ]
  },
  {
   "cell_type": "code",
   "execution_count": 33,
   "metadata": {
    "id": "VPORwf46xX-T"
   },
   "outputs": [
    {
     "name": "stdout",
     "output_type": "stream",
     "text": [
      "1/1 [==============================] - 0s 49ms/step\n",
      "1/1 [==============================] - 0s 49ms/step\n",
      "1/1 [==============================] - 0s 45ms/step\n",
      "1/1 [==============================] - 0s 50ms/step\n",
      "1/1 [==============================] - 0s 52ms/step\n",
      "1/1 [==============================] - 0s 42ms/step\n",
      "1/1 [==============================] - 0s 44ms/step\n",
      "Face not detected\n",
      "1/1 [==============================] - 0s 39ms/step\n",
      "1/1 [==============================] - 0s 41ms/step\n",
      "Face not detected\n",
      "1/1 [==============================] - 0s 28ms/step\n",
      "1/1 [==============================] - 0s 54ms/step\n",
      "1/1 [==============================] - 0s 33ms/step\n",
      "1/1 [==============================] - 0s 49ms/step\n",
      "1/1 [==============================] - 0s 31ms/step\n",
      "Face not detected\n",
      "1/1 [==============================] - 0s 46ms/step\n",
      "Face not detected\n",
      "1/1 [==============================] - 0s 41ms/step\n",
      "Face not detected\n",
      "1/1 [==============================] - 0s 40ms/step\n",
      "Face not detected\n",
      "1/1 [==============================] - 0s 48ms/step\n",
      "Face not detected\n",
      "1/1 [==============================] - 0s 41ms/step\n",
      "Face not detected\n",
      "1/1 [==============================] - 0s 26ms/step\n",
      "1/1 [==============================] - 0s 32ms/step\n",
      "1/1 [==============================] - 0s 31ms/step\n",
      "1/1 [==============================] - 0s 31ms/step\n",
      "1/1 [==============================] - 0s 48ms/step\n",
      "1/1 [==============================] - 0s 47ms/step\n",
      "1/1 [==============================] - 0s 31ms/step\n",
      "1/1 [==============================] - 0s 31ms/step\n",
      "1/1 [==============================] - 0s 30ms/step\n",
      "1/1 [==============================] - 0s 32ms/step\n",
      "1/1 [==============================] - 0s 32ms/step\n",
      "1/1 [==============================] - 0s 30ms/step\n",
      "1/1 [==============================] - 0s 47ms/step\n",
      "Face not detected\n",
      "1/1 [==============================] - 0s 31ms/step\n",
      "Face not detected\n",
      "1/1 [==============================] - 0s 35ms/step\n",
      "Face not detected\n",
      "1/1 [==============================] - 0s 35ms/step\n",
      "1/1 [==============================] - 0s 32ms/step\n",
      "1/1 [==============================] - 0s 49ms/step\n",
      "Face not detected\n",
      "1/1 [==============================] - 0s 49ms/step\n",
      "Face not detected\n",
      "1/1 [==============================] - 0s 34ms/step\n",
      "1/1 [==============================] - 0s 48ms/step\n",
      "Face not detected\n",
      "1/1 [==============================] - 0s 47ms/step\n",
      "Face not detected\n",
      "Face not detected\n",
      "1/1 [==============================] - 0s 43ms/step\n",
      "1/1 [==============================] - 0s 38ms/step\n",
      "Face not detected\n",
      "Face not detected\n",
      "1/1 [==============================] - 0s 49ms/step\n",
      "Face not detected\n",
      "1/1 [==============================] - 0s 29ms/step\n",
      "1/1 [==============================] - 0s 49ms/step\n",
      "Face not detected\n",
      "1/1 [==============================] - 0s 31ms/step\n",
      "Face not detected\n",
      "1/1 [==============================] - 0s 34ms/step\n",
      "1/1 [==============================] - 0s 33ms/step\n",
      "1/1 [==============================] - 0s 47ms/step\n",
      "Face not detected\n",
      "Face not detected\n",
      "1/1 [==============================] - 0s 47ms/step\n",
      "1/1 [==============================] - 0s 31ms/step\n",
      "Face not detected\n",
      "1/1 [==============================] - 0s 43ms/step\n",
      "1/1 [==============================] - 0s 32ms/step\n",
      "1/1 [==============================] - 0s 32ms/step\n",
      "1/1 [==============================] - 0s 33ms/step\n",
      "1/1 [==============================] - 0s 33ms/step\n",
      "Face not detected\n",
      "1/1 [==============================] - 0s 33ms/step\n",
      "Face not detected\n",
      "1/1 [==============================] - 0s 55ms/step\n",
      "Face not detected\n",
      "1/1 [==============================] - 0s 50ms/step\n",
      "1/1 [==============================] - 0s 33ms/step\n",
      "1/1 [==============================] - 0s 34ms/step\n",
      "1/1 [==============================] - 0s 48ms/step\n",
      "Face not detected\n",
      "1/1 [==============================] - 0s 47ms/step\n",
      "1/1 [==============================] - 0s 49ms/step\n",
      "1/1 [==============================] - 0s 31ms/step\n",
      "1/1 [==============================] - 0s 31ms/step\n",
      "1/1 [==============================] - 0s 39ms/step\n",
      "1/1 [==============================] - 0s 34ms/step\n",
      "1/1 [==============================] - 0s 33ms/step\n",
      "1/1 [==============================] - 0s 32ms/step\n",
      "1/1 [==============================] - 0s 31ms/step\n",
      "1/1 [==============================] - 0s 47ms/step\n",
      "1/1 [==============================] - 0s 48ms/step\n",
      "Face not detected\n",
      "1/1 [==============================] - 0s 33ms/step\n",
      "Face not detected\n",
      "1/1 [==============================] - 0s 41ms/step\n",
      "1/1 [==============================] - 0s 32ms/step\n",
      "Face not detected\n",
      "Face not detected\n",
      "1/1 [==============================] - 0s 35ms/step\n",
      "Face not detected\n",
      "1/1 [==============================] - 0s 40ms/step\n",
      "Face not detected\n",
      "1/1 [==============================] - 0s 30ms/step\n",
      "Face not detected\n",
      "Face not detected\n",
      "1/1 [==============================] - 0s 51ms/step\n",
      "Face not detected\n",
      "Face not detected\n",
      "1/1 [==============================] - 0s 27ms/step\n",
      "Face not detected\n",
      "1/1 [==============================] - 0s 40ms/step\n",
      "Face not detected\n",
      "1/1 [==============================] - 0s 31ms/step\n",
      "Face not detected\n",
      "1/1 [==============================] - 0s 42ms/step\n",
      "1/1 [==============================] - 0s 47ms/step\n",
      "1/1 [==============================] - 0s 44ms/step\n",
      "Face not detected\n",
      "1/1 [==============================] - 0s 48ms/step\n",
      "Face not detected\n",
      "Face not detected\n",
      "1/1 [==============================] - 0s 37ms/step\n",
      "Face not detected\n",
      "1/1 [==============================] - 0s 43ms/step\n",
      "Face not detected\n",
      "1/1 [==============================] - 0s 55ms/step\n",
      "Face not detected\n",
      "1/1 [==============================] - 0s 41ms/step\n",
      "Face not detected\n",
      "1/1 [==============================] - 0s 35ms/step\n",
      "Face not detected\n",
      "1/1 [==============================] - 0s 55ms/step\n",
      "Face not detected\n",
      "1/1 [==============================] - 0s 40ms/step\n",
      "Face not detected\n",
      "1/1 [==============================] - 0s 55ms/step\n",
      "Face not detected\n",
      "1/1 [==============================] - 0s 50ms/step\n",
      "1/1 [==============================] - 0s 47ms/step\n",
      "1/1 [==============================] - 0s 37ms/step\n",
      "Face not detected\n",
      "1/1 [==============================] - 0s 32ms/step\n",
      "Face not detected\n",
      "Face not detected\n",
      "Face not detected\n",
      "1/1 [==============================] - 0s 42ms/step\n",
      "Face not detected\n",
      "1/1 [==============================] - 0s 44ms/step\n",
      "Face not detected\n",
      "1/1 [==============================] - 0s 36ms/step\n",
      "1/1 [==============================] - 0s 45ms/step\n",
      "1/1 [==============================] - 0s 38ms/step\n",
      "1/1 [==============================] - 0s 54ms/step\n",
      "1/1 [==============================] - 0s 40ms/step\n",
      "Face not detected\n",
      "1/1 [==============================] - 0s 48ms/step\n",
      "1/1 [==============================] - 0s 31ms/step\n",
      "1/1 [==============================] - 0s 34ms/step\n",
      "Face not detected\n",
      "1/1 [==============================] - 0s 48ms/step\n"
     ]
    }
   ],
   "source": [
    "#LIVE VIDEO\n",
    "\n",
    "import cv2\n",
    "path = \"C:\\\\Users\\\\ACER\\\\Desktop\\\\new_emotions\\\\haarcascade_frontalface_default.xml\"\n",
    "font_scale=1.5\n",
    "font=cv2.FONT_HERSHEY_PLAIN\n",
    "\n",
    "#set rectangle background to white\n",
    "rectange_bgr=(255,255,255)\n",
    "#make black img\n",
    "img=np.zeros((500,500))\n",
    "text=\"\"\n",
    "(text_width,text_height)=cv2.getTextSize(text,font,fontScale=font_scale,thickness=1)[0]\n",
    "#starting position\n",
    "text_x=10\n",
    "text_y=img.shape[0]-25\n",
    "#box_coords\n",
    "box_coords=((text_x,text_y),(text_x+text_width+2, text_y-text_height-2))\n",
    "cv2.rectangle(img,box_coords[0],box_coords[1],rectange_bgr,cv2.FILLED)\n",
    "cv2.putText(img,text,(text_x,text_y),font,fontScale=font_scale,color=(0,0,0),thickness=1)\n",
    "\n",
    "cap = cv2.VideoCapture(1)\n",
    "if not cap.isOpened():\n",
    "    cap=cv2.VideoCapture(0)\n",
    "if not cap.isOpened():\n",
    "    raise IOError(\"cannot open cam\")\n",
    "\n",
    "\n",
    "while True:\n",
    "    ret,frame=cap.read()\n",
    "    faceCascade=cv2.CascadeClassifier(\"C:\\\\Users\\\\ACER\\\\Desktop\\\\new_emotions\\\\haarcascade_frontalface_default.xml\")\n",
    "    gray=cv2.cvtColor(frame,cv2.COLOR_BGR2GRAY)\n",
    "    faces =faceCascade.detectMultiScale(gray ,1.1,4)\n",
    "\n",
    "    for x,y,w,h in faces:\n",
    "        roi_gray=gray[y:y+h , x:x+w]\n",
    "        roi_color = frame[y:y+h , x:x+w]\n",
    "        cv2.rectangle(frame , (x,y),(x+w , y+h),(255 ,0 ,0),2)\n",
    "        facess= faceCascade.detectMultiScale(roi_gray)\n",
    "        if len(facess)==0:\n",
    "            print(\"Face not detected\")\n",
    "        else:\n",
    "            for(ex,ey,ew,eh) in facess:\n",
    "                face_roi = roi_color[ey:ey+eh , ex:ex+ew]\n",
    "\n",
    "    final=cv2.resize(frame,(224,224))\n",
    "    final=np.expand_dims(final,axis=0)\n",
    "    final=final/255.0\n",
    "\n",
    "    font=cv2.FONT_HERSHEY_SIMPLEX\n",
    "\n",
    "    predictions=new_model.predict(final)\n",
    "\n",
    "    font_scale=1.5\n",
    "    font=cv2.FONT_HERSHEY_PLAIN\n",
    "\n",
    "    if(np.argmax(predictions)==0):\n",
    "        status=\"Angry\"\n",
    "        x1,y1,w1,h1=0,0,175,75\n",
    "        cv2.rectangle(frame, (x1,x1) , (x1+w1,y1+h1) , (0,0,0), -1)\n",
    "        cv2.putText(frame,status , (x1+int(w1/10),y1+int(h1/2)),cv2.FONT_HERSHEY_SIMPLEX , 0.7 , (0,0,255),2)\n",
    "        cv2.putText(frame , status , (100,150), font , 3,(0,0,255),2,cv2.LINE_4)\n",
    "        cv2.rectangle(frame,(x,y),(x+w,y+h),(0,0,255))\n",
    "\n",
    "    elif(np.argmax(predictions)==1):\n",
    "        status=\"Disgust\"\n",
    "        x1,y1,w1,h1=0,0,175,75\n",
    "        cv2.rectangle(frame, (x1,x1) , (x1+w1,y1+h1) , (0,0,0), -1)\n",
    "        cv2.putText(frame,status , (x1+int(w1/10),y1+int(h1/2)),cv2.FONT_HERSHEY_SIMPLEX , 0.7 , (0,0,255),2)\n",
    "        cv2.putText(frame , status , (100,150), font , 3,(0,0,255),2,cv2.LINE_4)\n",
    "        cv2.rectangle(frame,(x,y),(x+w,y+h),(0,0,255))\n",
    "\n",
    "    elif(np.argmax(predictions)==2):\n",
    "        status=\"Fear\"\n",
    "        x1,y1,w1,h1=0,0,175,75\n",
    "        cv2.rectangle(frame, (x1,x1) , (x1+w1,y1+h1) , (0,0,0), -1)\n",
    "        cv2.putText(frame,status , (x1+int(w1/10),y1+int(h1/2)),cv2.FONT_HERSHEY_SIMPLEX , 0.7 , (0,0,255),2)\n",
    "        cv2.putText(frame , status , (100,150), font , 3,(0,0,255),2,cv2.LINE_4)\n",
    "        cv2.rectangle(frame,(x,y),(x+w,y+h),(0,0,255))\n",
    "    \n",
    "    elif(np.argmax(predictions)==3):\n",
    "        status=\"Happy\"\n",
    "        x1,y1,w1,h1=0,0,175,75\n",
    "        cv2.rectangle(frame, (x1,x1) , (x1+w1,y1+h1) , (0,0,0), -1)\n",
    "        cv2.putText(frame,status , (x1+int(w1/10),y1+int(h1/2)),cv2.FONT_HERSHEY_SIMPLEX , 0.7 , (0,0,255),2)\n",
    "        cv2.putText(frame , status , (100,150), font , 3,(0,0,255),2,cv2.LINE_4)\n",
    "        cv2.rectangle(frame,(x,y),(x+w,y+h),(0,0,255))\n",
    "    \n",
    "    elif(np.argmax(predictions)==4):\n",
    "        status=\"Neutral\"\n",
    "        x1,y1,w1,h1=0,0,175,75\n",
    "        cv2.rectangle(frame, (x1,x1) , (x1+w1,y1+h1) , (0,0,0), -1)\n",
    "        cv2.putText(frame,status , (x1+int(w1/10),y1+int(h1/2)),cv2.FONT_HERSHEY_SIMPLEX , 0.7 , (0,0,255),2)\n",
    "        cv2.putText(frame , status , (100,150), font , 3,(0,0,255),2,cv2.LINE_4)\n",
    "        cv2.rectangle(frame,(x,y),(x+w,y+h),(0,0,255))\n",
    "    \n",
    "    elif(np.argmax(predictions)==5):\n",
    "        status=\"Sad\"\n",
    "        x1,y1,w1,h1=0,0,175,75\n",
    "        cv2.rectangle(frame, (x1,x1) , (x1+w1,y1+h1) , (0,0,0), -1)\n",
    "        cv2.putText(frame,status , (x1+int(w1/10),y1+int(h1/2)),cv2.FONT_HERSHEY_SIMPLEX , 0.7 , (0,0,255),2)\n",
    "        cv2.putText(frame , status , (100,150), font , 3,(0,0,255),2,cv2.LINE_4)\n",
    "        cv2.rectangle(frame,(x,y),(x+w,y+h),(0,0,255))\n",
    "    else:\n",
    "        status=\"Surprise\"\n",
    "        x1,y1,w1,h1=0,0,175,75\n",
    "        cv2.rectangle(frame, (x1,x1) , (x1+w1,y1+h1) , (0,0,0), -1)\n",
    "        cv2.putText(frame,status , (x1+int(w1/10),y1+int(h1/2)),cv2.FONT_HERSHEY_SIMPLEX , 0.7 , (0,0,255),2)\n",
    "        cv2.putText(frame , status , (100,150), font , 3,(0,0,255),2,cv2.LINE_4)\n",
    "        cv2.rectangle(frame,(x,y),(x+w,y+h),(0,0,255))\n",
    "\n",
    "    cv2.imshow(\"Face Emotion Recognition\",frame)\n",
    "    if cv2.waitKey(2)&0xFF== ord('q'):\n",
    "        break\n",
    "\n",
    "cap.release()\n",
    "cv2.destroyAllWindows()"
   ]
  },
  {
   "cell_type": "code",
   "execution_count": null,
   "metadata": {},
   "outputs": [],
   "source": []
  }
 ],
 "metadata": {
  "accelerator": "GPU",
  "colab": {
   "authorship_tag": "ABX9TyPQz4RryFaHfBx3TLTQJdJM",
   "gpuType": "T4",
   "provenance": []
  },
  "kernelspec": {
   "display_name": "Python 3 (ipykernel)",
   "language": "python",
   "name": "python3"
  },
  "language_info": {
   "codemirror_mode": {
    "name": "ipython",
    "version": 3
   },
   "file_extension": ".py",
   "mimetype": "text/x-python",
   "name": "python",
   "nbconvert_exporter": "python",
   "pygments_lexer": "ipython3",
   "version": "3.10.11"
  }
 },
 "nbformat": 4,
 "nbformat_minor": 1
}
